{
 "cells": [
  {
   "cell_type": "markdown",
   "id": "prescription-chamber",
   "metadata": {},
   "source": [
    "# Open-FF synonym index"
   ]
  },
  {
   "cell_type": "code",
   "execution_count": null,
   "id": "13c8302b-75b6-4eb4-900e-f1e91eef2fbe",
   "metadata": {},
   "outputs": [],
   "source": [
    "%run \"catalog_common.py\""
   ]
  },
  {
   "cell_type": "code",
   "execution_count": null,
   "id": "swedish-fitness",
   "metadata": {},
   "outputs": [],
   "source": [
    "\n",
    "def getCatLink(cas,text_to_show='Analysis'):\n",
    "#    s = f'https://qbobioyuz1dh57rst8exeg-on.drv.tw/open_FF_catalog/{cas}/analysis_{cas}.html'\n",
    "#    s = f'file://C:/MyDocs/sandbox/data/O&G/open-FF/tmp/website/{cas}/analysis_{cas}.html'\n",
    "    s = f'{cas}/analysis_{cas}.html'\n",
    "    return ggmap.wrap_URL_in_html(s,text_to_show)\n",
    "\n"
   ]
  },
  {
   "cell_type": "code",
   "execution_count": null,
   "id": "middle-following",
   "metadata": {},
   "outputs": [],
   "source": [
    "import pandas as pd\n",
    "import numpy as np\n",
    "from itables import init_notebook_mode\n",
    "init_notebook_mode(all_interactive=True)\n",
    "from itables import show as iShow\n",
    "import itables.options as opt\n",
    "\n",
    "#import core.Analysis_set as ana_set\n",
    "\n",
    "df_cas = ana_set.Catalog_set(repo = repo_name, outdir='../common/').get_set(verbose=False)"
   ]
  },
  {
   "cell_type": "code",
   "execution_count": null,
   "id": "metallic-guatemala",
   "metadata": {},
   "outputs": [],
   "source": [
    "cascnt = df_cas.groupby('bgCAS',as_index=False)['UploadKey'].count()\n",
    "cascnt.columns = ['cas_number','record_cnt']\n",
    "syncnt = df_cas.groupby('IngredientName', as_index=False)['UploadKey'].count()\n",
    "syncnt.columns = ['synonym','syn_count']"
   ]
  },
  {
   "cell_type": "markdown",
   "id": "ordered-academy",
   "metadata": {},
   "source": [
    "This interactive table below lists synonyms for all chemicals published in FracFocus. This is not an exhaustive set. The table is sort-able by any column (click a second time for reverse sort) and use the **Search** bar to limit what is shown in the table. \n",
    "\n",
    "   \n",
    "Use the search function to find\n",
    "- alternative names for a given CAS number.  Some of these may be product names. Some CAS numbers have thousands of synonyms.\n",
    "- possible CAS numbers for a given synonym\n",
    "\n",
    "These synonyms are the ones provided by the CAS reference site, [SciFinder](http://scifinder.cas.org), a subscription service. Open-FF also uses the synonyms from EPA's CompTox database.   It can also be helpful to use\n",
    "[PubChem](https://pubchem.ncbi.nlm.nih.gov/), a free, public site.\n",
    "\n"
   ]
  },
  {
   "cell_type": "markdown",
   "id": "julian-connectivity",
   "metadata": {},
   "source": [
    "|Explanation of columns in the index|\n",
    "| :---: |\n",
    "\n",
    "| Column      | Description |\n",
    "| :----: | :-------- |\n",
    "|*synonym*| is the one of the names given by SciFinder for the material identified by the CAS number|\n",
    "|*cas_number*| is the CAS registration number of a chemical in the FracFocus data set. |\n",
    "||**Click on this link** to view summary of this chemical for all of FracFocus (filtered data - up to last major update)|  \n",
    "|*syn_count*| is the number of records where IngredientName matches the given *synonym*| \n",
    "|*record_cnt*| is the total number of records in the current Open-FF full data set that match bgCAS (cas_number). Note that the presence of a cas_number with 0 records implies that the cas_number was in the raw FracFocus data, but was a mistake and is corrected in the bgCAS number.| \n"
   ]
  },
  {
   "cell_type": "markdown",
   "id": "hidden-sheet",
   "metadata": {},
   "source": [
    "\n",
    "## Synonyms for chemicals reported in FracFocus"
   ]
  },
  {
   "cell_type": "code",
   "execution_count": null,
   "id": "thermal-redhead",
   "metadata": {},
   "outputs": [],
   "source": [
    "syn_df = grd.get_curated_df(repo_name,'CAS_synonyms.csv')\n",
    "syn_df = pd.merge(syn_df,syncnt,on='synonym',how='left')\n",
    "syn_df = pd.merge(syn_df,cascnt,on='cas_number',how='left').reset_index(drop=True)\n",
    "syn_df.syn_count.fillna(0,inplace=True)\n",
    "syn_df.record_cnt.fillna(0,inplace=True)\n",
    "syn_df.cas_number = '<b>'+syn_df.cas_number.map(lambda x: getCatLink(x,x))+'</b>'\n",
    "iShow(syn_df,maxBytes=0)"
   ]
  },
  {
   "cell_type": "code",
   "execution_count": null,
   "id": "configured-joshua",
   "metadata": {},
   "outputs": [],
   "source": []
  }
 ],
 "metadata": {
  "hide_input": true,
  "kernelspec": {
   "display_name": "Python 3 (ipykernel)",
   "language": "python",
   "name": "python3"
  },
  "language_info": {
   "codemirror_mode": {
    "name": "ipython",
    "version": 3
   },
   "file_extension": ".py",
   "mimetype": "text/x-python",
   "name": "python",
   "nbconvert_exporter": "python",
   "pygments_lexer": "ipython3",
   "version": "3.9.7"
  }
 },
 "nbformat": 4,
 "nbformat_minor": 5
}
