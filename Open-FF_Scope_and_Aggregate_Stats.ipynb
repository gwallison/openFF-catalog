{
 "cells": [
  {
   "cell_type": "code",
   "execution_count": null,
   "id": "9043d857-c06d-4333-9012-a78199f2fe8d",
   "metadata": {},
   "outputs": [],
   "source": [
    "%run \"catalog_common.py\" \n",
    "ID_header('FracFocus Scope and<br>Aggregate Stats', incl_links=True)\n",
    "set_page_param()"
   ]
  },
  {
   "cell_type": "code",
   "execution_count": null,
   "id": "f15314a2-6ec4-442d-9f9d-f2c041bebbe8",
   "metadata": {},
   "outputs": [],
   "source": [
    "import pandas as pd\n",
    "import numpy as np\n",
    "import matplotlib.pyplot as plt\n",
    "from pylab import gca, mpl\n",
    "\n",
    "from itables import init_notebook_mode\n",
    "init_notebook_mode(all_interactive=True)\n",
    "from itables import show as iShow\n",
    "import itables.options as opt\n",
    "\n",
    "master_df = ana_set.Full_set(repo = repo_name, outdir='../common/').get_set(verbose=False)\n",
    "master_df = master_df[(master_df.date.dt.year>2010)&\\\n",
    "                      (master_df.date.dt.year<=datetime.datetime.now().year)]\n",
    "master_df = master_df[master_df.in_std_filtered]\n",
    "\n",
    "gb2 = master_df.groupby('bgCAS')['IngredientName'].agg(lambda x: x.value_counts().index[0])\n",
    "gb2 = gb2.reset_index()\n",
    "gb2.columns = ['bgCAS','comm_name']\n",
    "master_df = pd.merge(master_df,gb2,on='bgCAS',how='left')\n"
   ]
  },
  {
   "cell_type": "markdown",
   "id": "53d19b53-3e16-488a-bc7f-cd1e352d96af",
   "metadata": {},
   "source": [
    "---\n",
    "# General Stats\n",
    "\n",
    "The figures below use filtered data (no duplicate disclosures or records) for Jan 1, 2011 to the most recently published data.  Because of publishing delays, the most recent months are probably under represented.\n",
    "\n",
    "**In the early data, roughly 2011 - May 2013, the bulk download does not include chemical records.**  However, the PDF files for that period are still served through [\"Find_A-Well\"](http://fracfocusdata.org/DisclosureSearch/Search.aspx) and document the reported chemicals.  Some projects have attempted to scrape those chemical records into an organized data set but they come with caveats (such as they may contain records that the industry no longer considers valid; or they are incomplete because many of the PDFs are poorly formatted and therefore difficult to scrape). "
   ]
  },
  {
   "cell_type": "code",
   "execution_count": null,
   "id": "440cdb76-b599-4ddd-a3a3-90ed374583c0",
   "metadata": {},
   "outputs": [],
   "source": [
    "alldf = master_df[master_df.ingKeyPresent].groupby('UploadKey',as_index=False)[['date','TotalBaseWaterVolume']].first()\n",
    "gb = alldf.groupby('date').size()\n",
    "allwk_sum = gb.resample(\"W\").sum()\n",
    "ax = allwk_sum.plot(figsize=(12,5), ylabel='Number of disclosures');\n",
    "ax.set_title('Orange: Without chemical records; Blue: with chemical records',fontsize=10);\n",
    "plt.suptitle('Weekly number of disclosures by end date in bulk download data',fontsize=15);\n",
    "alldfv1 = master_df[~master_df.ingKeyPresent].groupby('UploadKey',as_index=False)[['date','TotalBaseWaterVolume']].first()\n",
    "gbv1 = alldfv1.groupby('date').size()\n",
    "allwk_sumv1 = gbv1.resample(\"W\").sum()\n",
    "allwk_sumv1.plot(ax=ax);\n",
    "\n",
    "## This area plot code isn't working...\n",
    "# t1 = allwk_sum.reset_index()\n",
    "# t1.columns = ['date','with_chem_recs']\n",
    "# t2 = allwk_sumv1.reset_index()\n",
    "# t2.columns = ['date','without_chem_recs']\n",
    "# mg = pd.merge(t1,t2,on='date',how='outer')\n",
    "# mg.fillna(0,inplace=True)\n",
    "# mg.plot.area()\n"
   ]
  },
  {
   "cell_type": "markdown",
   "id": "767acfe4-940c-412e-baa6-c2cefcd9caea",
   "metadata": {},
   "source": [
    "---\n",
    "# Water use"
   ]
  },
  {
   "cell_type": "markdown",
   "id": "4c535582-0d08-4be9-b121-a9a340a0b30b",
   "metadata": {},
   "source": [
    "## Links to data\n",
    "| Data Set with link | Description |\n",
    "| :--: | :-- |\n",
    "| [Water and Sand use](scope/water_sand.csv)|- all locations from 2011 to last major update in FracFocus<br>- Total base water volume (in gallons)<br>- sand (CASRN: 14808-60-7) mass, for disclosures for which mass is calculable.<br> - \"OperatorName\" is field as given in FracFocus.<br>- \"bgOperatorName\" is a generated field to standardize multiple names for the same company.<br>- \"APINumber\" is a 14-digit number (as text string) from the FracFocus; early disclosures with only 10-digits are filled out with 'XXXX'<br>- \"api10\" is a simple 10-digit version of the APINumber (as a text string)|\n"
   ]
  },
  {
   "cell_type": "markdown",
   "id": "c9e1fe2e-a82b-481b-bada-61053bd76ee8",
   "metadata": {},
   "source": [
    "## Gallons used, recorded as TotalBaseWaterVolume\n",
    "Note multiplier in upper left corner of plot.  \"1e6\" means \"multiply y-axis values by 1,000,000\", \"1e9\"-> 1,000,000,000"
   ]
  },
  {
   "cell_type": "code",
   "execution_count": null,
   "id": "b87b5de8-4195-4827-8589-8666aabd6d5a",
   "metadata": {},
   "outputs": [],
   "source": [
    "alldf = master_df.groupby('UploadKey',as_index=False)[['date','TotalBaseWaterVolume']].first()\n",
    "gb1 = alldf.groupby('date')['TotalBaseWaterVolume'].median()\n",
    "allwk_tbwv = gb1.resample(\"W\").max()\n",
    "ax = allwk_tbwv.plot(figsize=(12,5), ylabel='Median Water Volume Used By Week',style='o');\n",
    "ax.set_title('Median water use (gallons) per week',fontsize=18);\n",
    "ax = gca().yaxis.set_major_formatter(mpl.ticker.StrMethodFormatter('{x:,.0f}'))\n"
   ]
  },
  {
   "cell_type": "code",
   "execution_count": null,
   "id": "c9748bdd-757a-48d9-a6eb-50fca65e8f4a",
   "metadata": {},
   "outputs": [],
   "source": [
    "gb3 = alldf.groupby('date')['TotalBaseWaterVolume'].sum()\n",
    "allwk_tbwv_sum = gb3.resample(\"W\").sum()\n",
    "ax = allwk_tbwv_sum.plot(figsize=(12,5), ylabel='Total Water Volume Used By Week',style='o');\n",
    "ax.set_title('Total weekly water use across FracFocus',fontsize=18);\n",
    "plt.suptitle('Data for most recent months probably relects publication delays.',fontsize=10);\n",
    "ax = gca().yaxis.set_major_formatter(mpl.ticker.StrMethodFormatter('{x:,.0f}'))\n",
    "\n"
   ]
  },
  {
   "cell_type": "code",
   "execution_count": null,
   "id": "c49665bc-b4ec-43f9-9d50-4f5a22e67d3b",
   "metadata": {},
   "outputs": [],
   "source": [
    "gb1 = alldf.groupby('date')['TotalBaseWaterVolume'].max()\n",
    "\n",
    "gb2 = gb1[gb1<100000000]\n",
    "allwk_tbwv = gb2.resample(\"W\").max()\n",
    "ax = allwk_tbwv.plot(figsize=(12,5), ylabel='Max Water Volume Used By Week',style='o');\n",
    "ax.set_title('Single maximum water use (gallons) per week',fontsize=18);\n",
    "plt.suptitle('All values over 100,000,000 gallons excluded - they are probably typos, but cannot be sure; see table below.',fontsize=10);\n",
    "ax = gca().yaxis.set_major_formatter(mpl.ticker.StrMethodFormatter('{x:,.0f}'))\n"
   ]
  },
  {
   "cell_type": "code",
   "execution_count": null,
   "id": "9d98b2a9-416f-426d-b304-f388dff38948",
   "metadata": {},
   "outputs": [],
   "source": [
    "print('Disclosures over 100 million gallons')\n",
    "print(gb1[gb1>100000000])"
   ]
  },
  {
   "cell_type": "markdown",
   "id": "b4a2b049-9eac-4b2b-bf3c-e15ded4d40b5",
   "metadata": {},
   "source": [
    "---\n",
    "# Proppants\n",
    "Remember, most 2011- mid 2013 disclosures do not have chemical records.  Proppants are, therefore, missing in those years in the figures below."
   ]
  },
  {
   "cell_type": "code",
   "execution_count": null,
   "id": "1c793d21-068f-4b15-b169-99c828658478",
   "metadata": {},
   "outputs": [],
   "source": [
    "# gb1 = master_df.groupby('UploadKey',as_index=False)[['APINumber','date','TotalBaseWaterVolume','bgStateName']].first()\n",
    "gb3 = master_df[master_df.bgCAS=='14808-60-7'].groupby('date')[['calcMass']].sum()\n",
    "allwk_sand_sum = gb3.resample(\"W\").sum()\n",
    "otherprop = ['66402-68-4','1302-93-8','1302-76-7','1344-28-1','1318-16-7','308075-07-2','14464-46-1','1302-74-5']\n",
    "\n",
    "ax = allwk_sand_sum.plot(figsize=(12,5), ylabel='Total 14808-60-7 Mass (lbs) By Week',style='o');\n",
    "ax.set_title('Total weekly sand (CASRN: 14808-60-7) use across FracFocus',fontsize=18)\n",
    "ax = gca().yaxis.set_major_formatter(mpl.ticker.StrMethodFormatter('{x:,.0f}'));\n"
   ]
  },
  {
   "cell_type": "code",
   "execution_count": null,
   "id": "7760411b-e0f2-4cce-98bc-cb1ccae552b4",
   "metadata": {},
   "outputs": [],
   "source": [
    "gb3 = master_df[master_df.bgCAS.isin(otherprop)].groupby('date')[['calcMass']].sum()\n",
    "allwk_other_sum = gb3.resample(\"W\").sum()\n",
    "ax = allwk_other_sum.plot(figsize=(12,5), ylabel='Total other proppants Mass (lbs) By Week',style='o');\n",
    "ax.set_title('Total weekly use of other proppants across FracFocus',fontsize=18)\n",
    "ax = gca().yaxis.set_major_formatter(mpl.ticker.StrMethodFormatter('{x:,.0f}'));\n",
    "\n",
    "props = master_df[master_df.bgCAS.isin(otherprop)].groupby('bgCAS',as_index=False)['epa_pref_name'].first()\n",
    "print(f'List of \"other proppants\" graphed: \\n{props}\\n')"
   ]
  },
  {
   "cell_type": "code",
   "execution_count": null,
   "id": "ce52cde2-ae84-4ed6-bd6f-194dd1d2d18d",
   "metadata": {},
   "outputs": [],
   "source": []
  }
 ],
 "metadata": {
  "kernelspec": {
   "display_name": "Python 3 (ipykernel)",
   "language": "python",
   "name": "python3"
  },
  "language_info": {
   "codemirror_mode": {
    "name": "ipython",
    "version": 3
   },
   "file_extension": ".py",
   "mimetype": "text/x-python",
   "name": "python",
   "nbconvert_exporter": "python",
   "pygments_lexer": "ipython3",
   "version": "3.9.7"
  }
 },
 "nbformat": 4,
 "nbformat_minor": 5
}
