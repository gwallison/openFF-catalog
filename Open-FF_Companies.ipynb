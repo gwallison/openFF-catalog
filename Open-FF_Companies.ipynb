{
 "cells": [
  {
   "cell_type": "code",
   "execution_count": null,
   "id": "242e0151-1014-423e-991b-5da5679f3110",
   "metadata": {},
   "outputs": [],
   "source": [
    "%run \"catalog_common.py\" \n",
    "ID_header('Open-FF:  Company Index', incl_links=True)\n",
    "set_page_param()\n"
   ]
  },
  {
   "cell_type": "code",
   "execution_count": null,
   "id": "cloudy-motel",
   "metadata": {},
   "outputs": [],
   "source": [
    "import pandas as pd\n",
    "import numpy as np\n",
    "from itables import init_notebook_mode\n",
    "init_notebook_mode(all_interactive=True)\n",
    "from itables import show as iShow\n",
    "import itables.options as opt\n",
    "\n",
    "\n",
    "import matplotlib.pyplot as plt\n",
    "%matplotlib inline\n",
    "pd.set_option('display.max_rows', 500)\n",
    "\n",
    "df_cas = ana_set.Catalog_set(repo = repo_name, outdir='../common/').get_set()\n"
   ]
  },
  {
   "cell_type": "markdown",
   "id": "jewish-consultation",
   "metadata": {},
   "source": [
    "|Explanation of columns in the index|\n",
    "| :---: |\n",
    "\n",
    "| Column      | Description |\n",
    "| :----: | :-------- |\n",
    "|*raw*| company name as it appears in the raw FracFocus (fields: OperatorName or Supplier)|\n",
    "|*translated*|company name as translated by Open-FF (fields: bgOperatorName, bgSupplier, primarySupplier)|\n",
    "|*number of OperatorName records*| how many times this raw value appears as the Operator value|\n",
    "|*number of Supplier records*| how many times this raw value appears as the Supplier value|"
   ]
  },
  {
   "cell_type": "code",
   "execution_count": null,
   "id": "general-humanity",
   "metadata": {},
   "outputs": [],
   "source": [
    "gbOp = df_cas.groupby(['OperatorName','bgOperatorName'],as_index=False)['bgCAS'].count()\n",
    "gbOp.columns = ['raw','translated','counts in OperatorName']\n",
    "gbSup = df_cas.groupby(['Supplier','bgSupplier'],as_index=False)['bgCAS'].count()\n",
    "gbSup.columns = ['raw','translated','counts in Supplier']\n",
    "xlate =pd.merge(gbOp,gbSup, on=['translated','raw'],how='outer').reset_index(drop=True)\n",
    "xlate = xlate.fillna(0)\n",
    "iShow(xlate,maxBytes=0)"
   ]
  },
  {
   "cell_type": "code",
   "execution_count": null,
   "id": "tight-puzzle",
   "metadata": {},
   "outputs": [],
   "source": []
  }
 ],
 "metadata": {
  "hide_input": true,
  "kernelspec": {
   "display_name": "Python 3 (ipykernel)",
   "language": "python",
   "name": "python3"
  },
  "language_info": {
   "codemirror_mode": {
    "name": "ipython",
    "version": 3
   },
   "file_extension": ".py",
   "mimetype": "text/x-python",
   "name": "python",
   "nbconvert_exporter": "python",
   "pygments_lexer": "ipython3",
   "version": "3.9.7"
  }
 },
 "nbformat": 4,
 "nbformat_minor": 5
}
