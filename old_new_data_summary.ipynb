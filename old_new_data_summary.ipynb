{
 "cells": [
  {
   "cell_type": "code",
   "execution_count": null,
   "id": "9783b434-731f-438d-bf53-e09a653af90d",
   "metadata": {},
   "outputs": [],
   "source": [
    "%run \"catalog_common.py\" \n",
    "ID_header('Open-FF: New Disclosures Report', incl_links=False)"
   ]
  },
  {
   "cell_type": "code",
   "execution_count": null,
   "id": "f3393d6a-1a5e-4449-9dfd-96c14f3ad4fc",
   "metadata": {},
   "outputs": [],
   "source": [
    "import pandas as pd\n",
    "import numpy as np\n",
    "import os\n",
    "from itables import init_notebook_mode\n",
    "init_notebook_mode(all_interactive=True)\n",
    "from itables import show as iShow\n",
    "import itables.options as opt\n",
    "\n",
    "# def iShow(df,maxBytes=0):\n",
    "#     display(df)\n",
    "\n",
    "df = ana_set.Catalog_set(repo = repo_name, outdir='../common/').get_set(verbose=False)\n",
    "\n",
    "# adding the following line to remove redundant, in-disclosure records. (Nov 4, 2022)\n",
    "df = df[df.in_std_filtered]\n",
    "\n",
    "gb2 = df.groupby('bgCAS')['IngredientName'].agg(lambda x: x.value_counts().index[0])\n",
    "gb2 = gb2.reset_index()\n",
    "gb2.columns = ['bgCAS','comm_name']\n",
    "df = pd.merge(df,gb2,on='bgCAS',how='left')\n",
    "\n",
    "df['perc_rank'] = df.groupby('bgCAS')['calcMass'].rank(pct=True)*100"
   ]
  },
  {
   "cell_type": "code",
   "execution_count": null,
   "id": "97a60aa6-7739-4604-866f-85442f13498b",
   "metadata": {},
   "outputs": [],
   "source": [
    "#preamble to analysis\n",
    "import pandas as pd\n",
    "import numpy as np\n",
    "import matplotlib.pyplot as plt\n",
    "from pylab import gca, mpl\n",
    "%matplotlib inline\n",
    "from pandas.plotting import register_matplotlib_converters\n",
    "register_matplotlib_converters()\n",
    "import seaborn as sns\n",
    "import matplotlib.ticker\n",
    "\n",
    "from time import sleep\n",
    "from datetime import datetime, timedelta\n",
    "now = datetime.now()\n",
    "one_year_ago = now-timedelta(days=365)\n",
    "today = str(datetime.today())\n",
    "today = today.split()[0]\n",
    "todaytxt = datetime.today().strftime(\"%B %d, %Y\")\n"
   ]
  },
  {
   "cell_type": "code",
   "execution_count": null,
   "id": "cee5f789-ff2e-426e-8886-712e0aa56635",
   "metadata": {},
   "outputs": [],
   "source": [
    "#print(repo_name)\n",
    "updates= grd.get_curated_df(repo=repo_name,df_fn='upload_dates.csv',zipfolder='')\n",
    "updates['dt_added'] = pd.to_datetime(updates.date_added)\n",
    "updates.weekly_report = pd.to_datetime(updates.weekly_report)\n",
    "updates['days_old'] = (now - updates.dt_added).dt.days\n",
    "\n",
    "# Instead of using days old, use the field weekly_report to find un-reported disclosures\n",
    "week_upk = updates[updates.weekly_report.isna()].UploadKey.tolist()\n",
    "last_report = str(updates[~updates.weekly_report.isna()].weekly_report.max()).split()[0] \n",
    "\n",
    "last_report_dt = pd.to_datetime(last_report)\n",
    "last_report = last_report_dt.strftime(\"%B %d, %Y\")"
   ]
  },
  {
   "cell_type": "code",
   "execution_count": null,
   "id": "4740efda-7a92-4834-b2f1-1618d4fddd2c",
   "metadata": {},
   "outputs": [],
   "source": [
    "display(md(f\"\"\"## FracFocus disclosures published between {last_report} and {bulkdata_date}\"\"\"))"
   ]
  },
  {
   "cell_type": "markdown",
   "id": "88f6a638-e3c3-4b1c-b37b-118d592cd64c",
   "metadata": {},
   "source": [
    "This report summarizes the fracking jobs published recently at [FracFocus](https://fracfocus.org/), the industry-funded chemical disclosure instrument. It includes the Who, What and Where of recent fracking activity: the operating companies, the chemicals they use (including quantities), and where these jobs are located.\n",
    "\n",
    "This report is produced by [Open-FF](https://frackingchemicaldisclosure.wordpress.com/), an open source, public service project to make the FracFocus data more usable. The nature of the fracking chemical data is complicated and can be difficult to make sense of; Open-FF aims to make it those data more digestible. In addition, FracFocus disclosures are plagued by inconsistencies, ambiguous and missing values and many obvious data errors; Open-FF flags and filters many of those problems. Our hope is that these reports give readers both big-picture perspectives of industry activities as well as enough detail to dig deeply into specifics such as individual chemicals, fracking job, or company."
   ]
  },
  {
   "cell_type": "markdown",
   "id": "8f8674b3-153b-4c68-9ae0-955e5929a215",
   "metadata": {},
   "source": [
    "   \n",
    "## In this report:\n",
    "\n",
    "### Overview of all FracFocus disclosures published this period by\n",
    "- [State](#state), [County](#county), [Operators](#operators), [Land type](#fed) \n",
    "- [Water use](#water)\n",
    "- [Recognized Chemicals of Concern](#chems)\n",
    "- [Proprietary claims](#proprietary) \n",
    "\n",
    "### [Detailed list](#detailed) of all disclosures including:\n",
    "- Location, company name, API number, water use, chemicals of concern, and Federal/Indian well indicator\n",
    "- Link to satellite image and Google map of fracking site\n",
    "\n",
    "#### [Disclosures with masses of Chemicals of Concern](#bigcomp) in the top 10% of FracFocus\n",
    "\n",
    "### [Silent changes detected](#silent)\n",
    "\n",
    "### [Fracking frequency](#pubfreq)\n",
    "    "
   ]
  },
  {
   "cell_type": "markdown",
   "id": "14e9454b-fa51-43d3-a5ba-baa83ce2c10c",
   "metadata": {},
   "source": [
    "# Overview"
   ]
  },
  {
   "cell_type": "code",
   "execution_count": null,
   "id": "c275a4cb-e6dc-4fe0-aeb8-8794a6fee165",
   "metadata": {},
   "outputs": [],
   "source": [
    "display(md(f'### Since {last_report}, the number of new disclosures added to FracFocus is: '))\n",
    "display(md(f'> # {len(week_upk)}'))"
   ]
  },
  {
   "cell_type": "code",
   "execution_count": null,
   "id": "65c6af1c-0e40-42f4-9041-6f930feb65ad",
   "metadata": {},
   "outputs": [],
   "source": [
    "weekdf = df[df.UploadKey.isin(week_upk)].copy()\n",
    "if len(weekdf)>0:\n",
    "    weekdf['map_link'] = weekdf.apply(lambda x: getLink(x),axis=1)\n",
    "    weekdf['apiMap'] = weekdf.apply(lambda x: getAPIMapLink(x),axis=1)\n",
    "else:\n",
    "    weekdf['map_link'] = ''\n",
    "    weekdf['apiMap'] = weekdf.APINumber"
   ]
  },
  {
   "cell_type": "code",
   "execution_count": null,
   "id": "840337a7-4ada-408c-aa4d-789a2cd54d9e",
   "metadata": {},
   "outputs": [],
   "source": [
    "display(md(f'### Where these {len(week_upk)} fracking jobs occurred:'))"
   ]
  },
  {
   "cell_type": "markdown",
   "id": "98520af7-62ca-4d0f-a2de-064410c942a7",
   "metadata": {},
   "source": [
    "<a id='state'></a>\n",
    "###   ...  by state"
   ]
  },
  {
   "cell_type": "code",
   "execution_count": null,
   "id": "2bdaf824-c508-4528-be7e-3ab07b9e2f00",
   "metadata": {},
   "outputs": [],
   "source": [
    "gb = weekdf.groupby(['StateName','CountyName','UploadKey'],as_index=False)['CASNumber'].count().drop('CASNumber',axis=1)\n",
    "#len(gb)"
   ]
  },
  {
   "cell_type": "code",
   "execution_count": null,
   "id": "3a69bb52-a558-48c6-978b-f04b0edcdca0",
   "metadata": {},
   "outputs": [],
   "source": [
    "#print(gb.head())\n",
    "gb.groupby(['StateName'])['UploadKey'].count().sort_values().plot.barh(ylabel='',#figsize=(10,6),\n",
    "                                                             title=\"Number of this week's disclosures, by state\",\n",
    "                                                             fontsize=12);"
   ]
  },
  {
   "cell_type": "markdown",
   "id": "21dfc4d6-84cc-4fb3-afc5-5f17fa16fd58",
   "metadata": {},
   "source": [
    "<a id='county'></a>\n",
    "###   ...  by county"
   ]
  },
  {
   "cell_type": "code",
   "execution_count": null,
   "id": "6e838966-0611-46d6-b5f0-2bce3705d8e8",
   "metadata": {},
   "outputs": [],
   "source": [
    "from math import ceil\n",
    "sts = gb.StateName.unique().tolist()\n",
    "sts.sort()\n",
    "if len(sts)>4:\n",
    "    griddim = (ceil(len(sts)/4),4)\n",
    "    emp = griddim[0]*griddim[1] - len(sts)\n",
    "\n",
    "    fig, axes = plt.subplots(ceil(len(sts)/4), 4, figsize=(15, 10))\n",
    "    for i,st in enumerate(sts):\n",
    "        ax = axes[i // 4, i % 4]\n",
    "        gb[gb.StateName==st].groupby(['CountyName'])['UploadKey'].count().plot.pie(ylabel='',fontsize=10,\n",
    "                                                                      ax = ax, title=st)\n",
    "    if emp>0:\n",
    "        for i in range(emp):\n",
    "            fig.delaxes(axes.flatten()[-(i+1)])    \n",
    "else:\n",
    "    fig,axes = plt.subplots(1,len(sts),figsize=(10,10))\n",
    "    for i,st in enumerate(sts):\n",
    "        ax = axes[i]\n",
    "        gb[gb.StateName==st].groupby(['CountyName'])['UploadKey'].count().plot.pie(ylabel='',fontsize=10,\n",
    "                                                                      ax = ax, title=st)\n"
   ]
  },
  {
   "cell_type": "markdown",
   "id": "53cca87e-59dd-483c-b2fc-aec2da337450",
   "metadata": {},
   "source": [
    "<a id='operators'></a>\n",
    "### ...  by top Operators"
   ]
  },
  {
   "cell_type": "code",
   "execution_count": null,
   "id": "b28915a7-feef-4ad8-8421-a498be89202d",
   "metadata": {},
   "outputs": [],
   "source": [
    "gb = weekdf.groupby(['OperatorName','UploadKey'],as_index=False)['CASNumber'].count()\n",
    "gb.groupby(['OperatorName'])['UploadKey'].count().sort_values()[-15:].plot.barh(figsize=(6,6),\n",
    "                                                                                    title='number of disclosures');"
   ]
  },
  {
   "cell_type": "markdown",
   "id": "c3736189-d681-4371-ad9b-3b3ab58984ed",
   "metadata": {},
   "source": [
    "### Operator list for all disclosures"
   ]
  },
  {
   "cell_type": "code",
   "execution_count": null,
   "id": "1513d63c-099c-4837-aa5e-01de63683ee7",
   "metadata": {},
   "outputs": [],
   "source": [
    "#gbs = weekdf.groupby(['OperatorName','UploadKey'],as_index=False)['StateName'].count()\n",
    "gb2 = weekdf.groupby(['OperatorName'])['StateName'].apply(set)\n",
    "gb1 = gb.groupby(['OperatorName'],as_index=False)['UploadKey'].count()\\\n",
    "        .sort_values(['UploadKey','OperatorName'],ascending=False)\n",
    "gb1 = pd.merge(gb1,gb2,on='OperatorName',how='left')\n",
    "gb1.StateName = gb1.StateName.map(lambda x: xlate_to_str(x, sep= ', '))\n",
    "gb1.columns = ['Operator','Num disclosures','in States']\n",
    "iShow(gb1.reset_index(drop=True),columnDefs=[{'width':'100px', 'targets':\"_all\"}])"
   ]
  },
  {
   "cell_type": "markdown",
   "id": "a735f1ee-0875-47e7-aaef-7f3767b90bba",
   "metadata": {},
   "source": [
    "<a id='fed'></a>\n",
    "### ... \"Federal wells\" or \"Indian wells\"\n",
    "Note that we've found these FracFocus indications of fracking on Federal and Native Lands are not always reliable."
   ]
  },
  {
   "cell_type": "code",
   "execution_count": null,
   "id": "6602aaf8-6438-4385-8682-ca1674ff0167",
   "metadata": {},
   "outputs": [],
   "source": [
    "gb = weekdf[weekdf.FederalWell=='True'].groupby(['OperatorName','UploadKey'],as_index=False)['CASNumber'].count()\n",
    "if len(gb)>0:\n",
    "    \n",
    "    gb = gb.groupby(['OperatorName'])['UploadKey'].count().sort_values().plot.barh(figsize=(10,len(gb.OperatorName.unique())*0.5),\n",
    "                                                                                    title='\"Federal Wells:\" number of disclosures')\n",
    "else:\n",
    "    display(md('#### >>>>  No \"federal wells\" reported'))"
   ]
  },
  {
   "cell_type": "code",
   "execution_count": null,
   "id": "193d7c02-51d0-4fdb-a1df-17cf2c3ac280",
   "metadata": {},
   "outputs": [],
   "source": [
    "    \n",
    "gb = weekdf[weekdf.IndianWell=='True'].groupby(['OperatorName','UploadKey'],as_index=False)['CASNumber'].count()\n",
    "if len(gb)>0:\n",
    "    \n",
    "    gb = gb.groupby(['OperatorName'])['UploadKey'].count().sort_values().plot.barh(figsize=(10,len(gb.OperatorName.unique())*0.5),\n",
    "                                                                                    title='\"Indian Wells:\" number of disclosures')\n",
    "else:\n",
    "    display(md('#### >>>>  No \"indian wells\" reported'))\n",
    "    "
   ]
  },
  {
   "cell_type": "markdown",
   "id": "7a021582-5209-474f-8738-022f14a95bf1",
   "metadata": {},
   "source": [
    "---\n",
    "<a id='water'></a>\n",
    "## Water use for this report's disclosures"
   ]
  },
  {
   "cell_type": "markdown",
   "id": "967af782-e115-4bb0-8d02-33e39003ab5a",
   "metadata": {},
   "source": [
    "Thick vertical lines in the graph indicate 25, 50 and 75% percentiles for this report's disclosures."
   ]
  },
  {
   "cell_type": "code",
   "execution_count": null,
   "id": "59fc07f5-331c-452d-a8c9-c31cd9f28b89",
   "metadata": {},
   "outputs": [],
   "source": [
    "import seaborn as sns\n",
    "sns.set(style=\"whitegrid\")\n",
    "wdf = weekdf.groupby('UploadKey',as_index=False)[['TotalBaseWaterVolume','StateName']].first()\n",
    "sn = wdf.groupby('StateName',as_index=False)['UploadKey'].count().astype('str')\n",
    "sn.columns = ['StateName', 'cnt']\n",
    "wdf = pd.merge(wdf,sn,on='StateName',how='left')\n",
    "wdf['State_Num'] = wdf.StateName+'__'+wdf.cnt\n",
    "wdf = wdf.sort_values('cnt',ascending=False)\n",
    "fig = plt.figure(figsize=(15,8))\n",
    "ax = sns.stripplot(x=wdf.TotalBaseWaterVolume,y=wdf.State_Num,jitter=.2,alpha=.4,size=10)\n",
    "plt.xlabel(f'water volume (gallons):',fontsize=14);\n",
    "plt.title(f'Water Use for events published since the last report',fontsize=16)\n",
    "ax.set(xscale='log')\n",
    "ax.set(xlim=(max(10000,wdf.TotalBaseWaterVolume.min()),wdf.TotalBaseWaterVolume.max()*1.2))\n",
    "ax.grid(axis='y')\n",
    "ax.tick_params(axis=\"x\", labelsize=14)\n",
    "ax.tick_params(axis=\"y\", labelsize=14)\n",
    "locmaj = matplotlib.ticker.LogLocator(base=10,subs='all') \n",
    "ax.xaxis.set_major_locator(locmaj)\n",
    "\n",
    "lns = list(np.percentile(wdf[wdf.TotalBaseWaterVolume>0].TotalBaseWaterVolume,[25,50,75]))\n",
    "ax.set_ylim(-0.7,len(sn)-0.3)\n",
    "for l in lns:\n",
    "    plt.vlines(l,-0.7,len(sn),color='black')\n",
    "totgal = wdf.TotalBaseWaterVolume.sum()\n",
    "\n",
    "s = f' -- number of empty TBWV: {(~(wdf.TotalBaseWaterVolume>0)).sum()}\\n'\n",
    "s+= ' -- 25%:  {:,} gallons\\n'.format(int(lns[0]))\n",
    "s+= ' -- 50%:  {:,} gallons\\n'.format(int(lns[1]))\n",
    "s+= ' -- 75%:  {:,} gallons\\n'.format(int(lns[2]))\n",
    "s+= ' -- max:  {:,} gallons\\n'.format(int(wdf.TotalBaseWaterVolume.max()))\n",
    "s+= ' -- TOTAL {:,} gallons\\n'.format(int(totgal))\n",
    "print(s)\n"
   ]
  },
  {
   "cell_type": "markdown",
   "id": "1af6f443-cd9f-407c-812c-2ed85a95d256",
   "metadata": {},
   "source": [
    "<a id='chems'></a>\n",
    "## Recognized Chemicals of Concern used in these disclosures\n",
    "The following table is based on lists of chemicals that have health or environmental effects: SDWA, CWA, Proposition 65, PFAS and TEDX. "
   ]
  },
  {
   "cell_type": "code",
   "execution_count": null,
   "id": "546911be-ca1e-4385-a04a-ad5b50b27d5f",
   "metadata": {},
   "outputs": [],
   "source": [
    "# new chemicals of concern table\n",
    "weekdf['on_list'] = np.where(weekdf.is_on_CWA,'CWA; ','')\n",
    "weekdf.on_list = np.where(weekdf.is_on_DWSHA,weekdf.on_list+'DWSHA; ',weekdf.on_list)\n",
    "weekdf.on_list = np.where(weekdf.is_on_TEDX,weekdf.on_list+'TEDX; ',weekdf.on_list)\n",
    "weekdf.on_list = np.where(weekdf.is_on_prop65,weekdf.on_list+'prop65; ',weekdf.on_list)\n",
    "weekdf.on_list = np.where(weekdf.is_on_PFAS_list,weekdf.on_list+'PFAS; ',weekdf.on_list)\n",
    "weekdf.on_list = np.where(weekdf.is_on_volatile_list,weekdf.on_list+'Volatile; ',weekdf.on_list)\n",
    "\n",
    "chemconcern = weekdf[~(weekdf.on_list=='')].groupby('bgCAS',as_index=False)[['comm_name']].first()\\\n",
    "                     .rename({'comm_name':'Chemical Name'},axis=1)\n",
    "gb1 =  weekdf[~(weekdf.on_list=='')].groupby('bgCAS',as_index=False)[['IngredientName']].count().rename({'IngredientName':'record count'},\n",
    "                                                                                                       axis=1)\n",
    "gb2 = weekdf[~(weekdf.on_list=='')].groupby('bgCAS',as_index=False)[['on_list']].first()\n",
    "gb3 = weekdf[~(weekdf.on_list=='')].groupby('bgCAS',as_index=False)[['calcMass']].max().rename({'calcMass':'Largest Mass'},\n",
    "                                                                                               axis=1)\n",
    "gb4 = weekdf[~(weekdf.on_list=='')].groupby('bgCAS',as_index=False)[['perc_rank']].max().rename({'perc_rank':'% Rank of Largest Mass'},\n",
    "                                                                                               axis=1)\n",
    "\n",
    "chemconcern = pd.merge(chemconcern,gb1,on='bgCAS',how='left')\n",
    "chemconcern = pd.merge(chemconcern,gb2,on='bgCAS',how='left')\n",
    "chemconcern = pd.merge(chemconcern,gb3,on='bgCAS',how='left')\n",
    "chemconcern = pd.merge(chemconcern,gb4,on='bgCAS',how='left')\n",
    "l=[]\n",
    "for i in range(len(chemconcern)):\n",
    "    l.append('c'+str(i+1).zfill(2))\n",
    "chemconcern['CID'] = pd.Series(l)\n",
    "chemconcern['CAS Number'] = chemconcern.bgCAS.map(lambda x: getCatLink(x,x,use_remote=True))\n",
    "print(f'Total number of records on Chemical of Concern list for these disclosures: {chemconcern[\"record count\"].sum()}')\n",
    "iShow(chemconcern[['CID','CAS Number','Chemical Name','record count',\n",
    "                   'Largest Mass','% Rank of Largest Mass',\n",
    "                   'on_list']].reset_index(drop=True),\n",
    "      index=False,maxBytes=0,classes=\"display compact cell-border\")"
   ]
  },
  {
   "cell_type": "markdown",
   "id": "de71291a-dfde-4a50-b71e-c5de267b5ed1",
   "metadata": {},
   "source": [
    "|Explanation of columns in the index above|\n",
    "| :---: |\n",
    "\n",
    "\n",
    "| Column      | Description |\n",
    "| :----: | :-------- |\n",
    "|*CID*| is the chemical ID used in the disclosure table | \n",
    "|*CAS Number*| is the CAS registration number of the chemical. Click on the number for a summary of this chemical for all of FracFocus.|  \n",
    "|*Chemical Name*| is one of the common names for the material|\n",
    "|*record count* |indicates the number of records in this week's disclosures. A given chemical may appear more than once in a disclosure|\n",
    "|*Largest mass*| is the single greatest mass of the chemical in this week's disclosures (in pounds)|\n",
    "|*% Rank of largest Mass*|how the largest mass from this week compares to the rest of FracFocus data (through last update). Ex. 95.0 means that this mass was in the top 5% of all uses ever recorded in FracFocus. If there are records with values of 90% or more, a list of all disclosures are in a [table](#bigcomp) later in this report. \n",
    "|*on_list*|indicates which of the following lists the chemical is on.  Type the name of the list into the Search box to limit to those chemicals.<br> - **CWA**: indicates that the chemical is on the [Clean Water Act list](https://comptox.epa.gov/dashboard/chemical_lists/CWA311HS) as compiled in EPA's CompTox<br>- **DWSHA**: indicated that the chemical is on the EPA's [Drinking Water Safety and Health Advisory](https://comptox.epa.gov/dashboard/chemical_lists/EPADWS) list<br>- **TEDX**: indicates that the chemical is on [The Endocrine Disruption Exchange](https://endocrinedisruption.org) list<br>- **prop_65**: indicates that the chemical is on [California's Proposition 65](https://oehha.ca.gov/proposition-65/proposition-65-list) list<br>- **PFAS**: indicates that the chemical is on EPA's comprehensive list of PFAS related compounds<br>- **Volatile**: indicates that the chemical is on the EPA's volatile chemical list|\n",
    "\n"
   ]
  },
  {
   "cell_type": "code",
   "execution_count": null,
   "id": "cace9b62-04ae-43d2-9e04-20fac6144de2",
   "metadata": {},
   "outputs": [],
   "source": [
    "weekdf['proprietary'] = weekdf.bgCAS=='proprietary'\n",
    "gb1 = weekdf.groupby('UploadKey',as_index=False)['PercentHFJob'].sum()\n",
    "gb1['in_perc_tolerance'] = (gb1.PercentHFJob<110)&(gb1.PercentHFJob>90)\n",
    "\n",
    "gb2 = weekdf[weekdf.proprietary].groupby('UploadKey',as_index=False)['calcMass'].sum()\n",
    "gb2 = gb2.rename({'calcMass':'prop_mass'},axis=1)\n",
    "\n",
    "gb = weekdf.groupby(['UploadKey'],as_index=False)[['CountyName','StateName',\n",
    "                                                    'OperatorName','APINumber',\n",
    "                                                    'TotalBaseWaterVolume','TVD',\n",
    "                                                    'FederalWell','IndianWell',\n",
    "                                                    'map_link','date','apiMap']].first()\n",
    "gb = pd.merge(gb,gb1[['UploadKey','PercentHFJob']],on='UploadKey',how='left')\n",
    "gb = pd.merge(gb,gb2,on='UploadKey',how='left')\n"
   ]
  },
  {
   "cell_type": "code",
   "execution_count": null,
   "id": "5d33a91d-528e-416a-a065-a94bf8e29196",
   "metadata": {},
   "outputs": [],
   "source": [
    "weekdf = pd.merge(weekdf,chemconcern[['bgCAS','CID']],on='bgCAS',how='left')"
   ]
  },
  {
   "cell_type": "code",
   "execution_count": null,
   "id": "af6884b0-1cd5-4f04-be91-32609a3c1021",
   "metadata": {},
   "outputs": [],
   "source": [
    "def sort_id(st):\n",
    "    l = list(st)\n",
    "    l.sort()\n",
    "    return l\n",
    "weekchem = weekdf[weekdf.bgCAS.isin(chemconcern.bgCAS.tolist())].groupby(['UploadKey'])['CID'].apply(set).reset_index()\n",
    "weekchem.CID = weekchem.CID.map(lambda x: sort_id(x))\n",
    "weekdf = weekdf.drop('CID',axis=1)\n",
    "disc = pd.merge(gb,weekchem,on='UploadKey',how='left')"
   ]
  },
  {
   "cell_type": "markdown",
   "id": "50a9c498-a157-4906-97f2-edf894c1d0cd",
   "metadata": {},
   "source": [
    "<a id='proprietary'></a>\n",
    "# Proprietary labeling \n",
    "FracFocus allows disclosures to hide the identity of chemicals that companies claim are business secrets.  This practice has been controversial since the beginning of FracFocus.  Some changes in format (the 'system approach') were made to purportedly reduce the use of proprietary claims.  Nevertheless, they are still commonly employed.  The following summarizes how much the past week's disclosures hid chemical identity with these claims. A detailed disclosure listing later in this report specifies the percentage of chemical records that are hidden by these claims for every disclosure.  They range from zero percent to 70% or even more.   \n",
    "\n",
    "As of version 10, Open-FF detects proprietary claims by both the CASNumber and IngredientName fields.  \n"
   ]
  },
  {
   "cell_type": "code",
   "execution_count": null,
   "id": "e244d905-aa79-4c57-b482-f7823c1f7ca6",
   "metadata": {},
   "outputs": [],
   "source": [
    "numprop = weekdf.proprietary.sum()\n",
    "display(md(f'## Total number of proprietary claims since {last_report}: {numprop:,} records'))\n",
    "display(md('---'))"
   ]
  },
  {
   "cell_type": "code",
   "execution_count": null,
   "id": "dfdfd58d-479d-46e6-9ea6-c4733d2cdec1",
   "metadata": {},
   "outputs": [],
   "source": [
    "# proprietary summaries\n",
    "weekdf['clean_cas'] = (weekdf.is_valid_cas)&~(weekdf.bgCAS=='proprietary')\n",
    "pgb = weekdf.groupby('UploadKey',as_index=False)[['proprietary','clean_cas']].sum()\n",
    "pgb['fraction_prop'] = pgb.proprietary/(pgb.clean_cas+pgb.proprietary)\n",
    "pgb['percent_proprietary'] = (pgb.fraction_prop)*100\n",
    "#print(pgb.percent_proprietary)\n",
    "ax = pgb.percent_proprietary.hist()\n",
    "ax.set_ylabel('Number of disclosures')\n",
    "ax.set_xlabel('Percent of records that are proprietary')\n",
    "ax.set_title('Percent of disclosure records that are claimed as \"proprietary\"',fontsize=15);"
   ]
  },
  {
   "cell_type": "markdown",
   "id": "bba46d89-7883-4756-bf46-d912b5748c69",
   "metadata": {},
   "source": [
    "## Portion of records hidden, by state"
   ]
  },
  {
   "cell_type": "code",
   "execution_count": null,
   "id": "84953abf-30ee-4ae2-9cb7-df4715b84dd3",
   "metadata": {},
   "outputs": [],
   "source": [
    "# proprietary summaries by state\n",
    "sts = weekdf.StateName.unique().tolist()\n",
    "sts.sort()\n",
    "weekdf['cas_stat'] = np.where(weekdf.proprietary,'proprietary','other')\n",
    "weekdf['cas_stat'] = np.where(weekdf.clean_cas,'chem identified',weekdf.cas_stat)\n",
    "if len(sts)>4:\n",
    "    griddim = (ceil(len(sts)/4),4)\n",
    "    emp = griddim[0]*griddim[1] - len(sts)\n",
    "\n",
    "    fig, axes = plt.subplots(ceil(len(sts)/4), 4, figsize=(15, 10))\n",
    "    for i,st in enumerate(sts):\n",
    "        ax = axes[i // 4, i % 4]\n",
    "        cond = (weekdf.StateName==st)&(~(weekdf.cas_stat=='other'))\n",
    "        weekdf[cond].groupby(['cas_stat'])['UploadKey'].count().plot.pie(ylabel='',fontsize=10,\n",
    "                                                                      ax = ax, title=st)\n",
    "    if emp>0:\n",
    "        for i in range(emp):\n",
    "            fig.delaxes(axes.flatten()[-(i+1)])    \n",
    "else:\n",
    "    fig,axes = plt.subplots(1,len(sts),figsize=(10,10))\n",
    "    for i,st in enumerate(sts):\n",
    "        ax = axes[i]\n",
    "        cond = (weekdf.StateName==st)&(~(weekdf.cas_stat=='other'))\n",
    "        weekdf[cond].groupby(['cas_stat'])['UploadKey'].count().plot.pie(ylabel='',fontsize=10,\n",
    "                                                                      ax = ax, title=st)\n"
   ]
  },
  {
   "cell_type": "markdown",
   "id": "f2b44466-1a33-4b42-9730-9ee380e6c6f9",
   "metadata": {},
   "source": [
    "<a id='proprietary_names'></a>\n",
    "## Ingredient names used for proprietary records for this report's disclosures\n",
    "Because these are proprietary claims, the reported ingredient name will not be specific, usually just a general class.\n",
    "\n",
    "In some cases, companies do not report the PercentHFJob or report 0.0% for proprietary records. We use 0.0 pounds for those records in the following table."
   ]
  },
  {
   "cell_type": "code",
   "execution_count": null,
   "id": "63fb1862-95fb-4b9d-8bc8-d2dc08e5b14d",
   "metadata": {},
   "outputs": [],
   "source": [
    "weekdf['ing'] = weekdf.IngredientName.str.strip().str.lower()\n",
    "tmp = pd.DataFrame(weekdf[weekdf.proprietary].value_counts('ing'))\n",
    "promass = weekdf[weekdf.proprietary].groupby('ing',as_index=False)['calcMass'].sum()\n",
    "promass.calcMass = promass.calcMass.astype('int')\n",
    "tmp = pd.merge(tmp,promass,on='ing',how='left')\n",
    "tmp = tmp.reset_index(drop=True)\n",
    "propops = weekdf[weekdf.proprietary].groupby('ing')['bgOperatorName'].apply(set)\n",
    "tmp = pd.merge(tmp,propops,on='ing',how='left')\n",
    "tmp.bgOperatorName = tmp.bgOperatorName.map(lambda x: xlate_to_str(x,'; ',trunc=True,tlen=20))\n",
    "tmp = tmp.sort_values([0,'calcMass'],ascending=False)\n",
    "tmp.columns=['Reported Ingredient Name','Num of records','total proprietary mass (pounds)','Operators using this label']\n",
    "#tmp.style.hide_index().format({'total proprietary mass (pounds)':\"{:,}\"})\n",
    "tmp = tmp.reset_index(drop=True)\n",
    "\n",
    "opt.classes = ['display','compact']\n",
    "opt.columnDefs=[{\"width\": \"1200px\", \"targets\": \"Num of records\"}]\n",
    "iShow(tmp,maxBytes=0)"
   ]
  },
  {
   "cell_type": "markdown",
   "id": "fa4bb219-c7e2-4379-b075-40d4917f4927",
   "metadata": {},
   "source": [
    "---\n",
    "# Detailed disclosure listings"
   ]
  },
  {
   "cell_type": "markdown",
   "id": "cfe89ee7-7cfb-4f70-b639-ec5144a83ccf",
   "metadata": {},
   "source": [
    "### Notes:\n",
    "\n",
    "**Listing of chemicals in individual disclosures:**  In the table below, individual fracking disclosures are identified by APINumber.  If you are interested in seeing the details of the raw data, use that APINumber at the FracFocus [\"Find a Well\" site](http://fracfocusdata.org/DisclosureSearch/Search.aspx).  That search site will serve pdf files of individual fracking events to your computer with most of the same raw data available used here. However,  mass of chemicals is not available from these pdfs.\n",
    "\n",
    "**Maps:**  In the table below, a link is provided to a Google map/satellite view of the location provided in the disclosure (click on the APINumber).   Many recently published fracking sites are **newer** than the satellite image that Google uses, so the well pad may not be visible.  However, you can still view the geographic context of the drilling site."
   ]
  },
  {
   "cell_type": "markdown",
   "id": "126b5d81-06b1-4dd7-9b8c-d87f6e09f772",
   "metadata": {},
   "source": [
    "<a id='detailed'></a>\n",
    "## Listing of all new disclosures published since last report\n",
    "\n",
    "|Columns descriptions and issues to look for |\n",
    "| :--- |\n",
    "\n",
    "- **FID** - Fracking job ID number (used in following table to identify heavy use of chemical)\n",
    "- **Water volume** - volume in gallons of the water base fluid used in a fracking job\n",
    "  - Especially large fracking carrier (>30 million gallons)\n",
    "  - No data or a report of ZERO gallons of water. This prevents the calculation of chemical mass\n",
    "- **TVD** - True vertical depth (feet)\n",
    "  - No data or a report of ZERO feet.\n",
    "  - Deeper than deepest oil well (35,050 ft.): likely error\n",
    "- **Percent proprietary** - proportion of chemical records for which identity is hidden\n",
    "  - 25% or greater\n",
    "- **End date** - Last day of job\n",
    "  - many states require disclosure within 30 or 90 days. \n",
    "  - sometimes end date is in the future, indicating mis-representation\n",
    "- **Total percentage (\"perc sum\")** - the sum of all records in a disclosure should be 100% (within a tolerance)\n",
    "  - if less than 90%, disclosure is probably incomplete\n",
    "  - greater than 110% - often caused by a \"system approach\"  entry error: duplicates of some chemical records or hidden percentages in the tradename/purpose/supplier section. \n",
    "- **CIDs in disclosure** - see the Chemicals of Concern table above for more information\n",
    "- **APINumber** - click on this link to see a Google map of the location of this well"
   ]
  },
  {
   "cell_type": "code",
   "execution_count": null,
   "id": "fabba162-493d-4eec-9ec9-03e28b0888a0",
   "metadata": {},
   "outputs": [],
   "source": [
    "#gb['Water_vol_gallons'] = gb.TotalBaseWaterVolume.map(lambda x: round_sig(x,3))\n",
    "disc['Type_well'] = np.where(disc.FederalWell=='True','Federal\\n','')\n",
    "disc.Type_well= np.where(disc.IndianWell=='True','Indian',disc.Type_well)\n",
    "# gb = gb.drop(['TotalBaseWaterVolume','FederalWell','IndianWell'],axis=1)\n",
    "gbn = disc.drop(['FederalWell','IndianWell'],axis=1)\n",
    "gbn['datestr'] = gbn.date.apply(lambda x: x.strftime('%Y-%m-%d'))\n",
    "gbn = pd.merge(gbn,pgb[['UploadKey','fraction_prop']],on='UploadKey',how='left')\n",
    "gbn = gbn.sort_values(['StateName','CountyName','OperatorName']).reset_index()\n",
    "l=[]\n",
    "for i in range(len(gbn)):\n",
    "    #print(i,row.StateName,row.CountyName)\n",
    "    l.append('F'+str(i+1).zfill(3))\n",
    "gbn['FID'] = pd.Series(l)\n",
    "if len(gbn)>0:\n",
    "    t = gbn[['FID','StateName','CountyName','OperatorName','apiMap','datestr',\n",
    "            'TotalBaseWaterVolume','TVD','PercentHFJob',\n",
    "            'Type_well','fraction_prop','CID']].copy()\n",
    "    t.CID = t.CID.map(lambda x: xlate_to_str(x))\n",
    "    #t.APINumber = t.APINumber.map(lambda x: make_anchor(x))\n",
    "    t.TotalBaseWaterVolume.fillna(0,inplace=True)\n",
    "    t.TotalBaseWaterVolume = t.TotalBaseWaterVolume.astype('int')\n",
    "    t.TVD = t.TVD.astype('int')\n",
    "    t.PercentHFJob= t.PercentHFJob.astype('int')\n",
    "\n",
    "    t = t.rename({'StateName':'State',\n",
    "                  'CountyName':'County',\n",
    "                  'OperatorName':'Operator',\n",
    "                  #'APINumber':'API Number',\n",
    "                  'apiMap':'API Number',\n",
    "                  'datestr':'end date',\n",
    "                  'pub_delay':'pub delay days',\n",
    "                  'TotalBaseWaterVolume':'Water volume (gal)',\n",
    "                  'TVD':'TVD (feet)',\n",
    "                  'PercentHFJob':'perc sum',\n",
    "                  #'map_link':'link',\n",
    "                  'Type_well':'Type Land',\n",
    "                  'fraction_prop':'fraction proprietary',\n",
    "                  'CID':'CIDs in disclosure'},\n",
    "                  #'prop_mass':'proprietary mass pounds'},\n",
    "                  axis=1)\n",
    "    iShow(t,maxBytes=0,classes=\"display compact cell-border\")"
   ]
  },
  {
   "cell_type": "code",
   "execution_count": null,
   "id": "08e49672-a35e-4536-8580-cca891cc8bd6",
   "metadata": {},
   "outputs": [],
   "source": [
    "have_big_concerns = False\n",
    "if chemconcern['% Rank of Largest Mass'].max() > 90:\n",
    "    have_big_concerns = True\n",
    "    ccbgcas = chemconcern.bgCAS.unique().tolist()\n",
    "    bigcomp = weekdf[weekdf.bgCAS.isin(ccbgcas)].copy()\n",
    "    bigcomp = bigcomp[bigcomp['perc_rank']>90]\n",
    "    bigcomp = bigcomp[['APINumber','bgCAS','comm_name','calcMass','perc_rank','bgOperatorName','apiMap']]\n"
   ]
  },
  {
   "cell_type": "markdown",
   "id": "9bcf75e7-37e1-4575-8cef-3e57e6a5b545",
   "metadata": {},
   "source": [
    "<a id='bigcomp'></a>\n",
    "## Disclosures with chemicals-of-concern masses in the top 10% of all FracFocus"
   ]
  },
  {
   "cell_type": "code",
   "execution_count": null,
   "id": "4f3a5a86-649c-4dcc-83a9-bfa2daf77a2c",
   "metadata": {},
   "outputs": [],
   "source": [
    "if have_big_concerns:\n",
    "    #display(md('## Disclosures with chemicals-of-concern masses in the top 10% of all FracFocus'))\n",
    "    display(md('A disclosure may have more than one chemical record in the top 10% for a given CASNumber. This could be due to more than one Trade-named product using that chemical.'))\n",
    "    mg = pd.merge(bigcomp,gbn[['FID','APINumber','OperatorName']],on='APINumber',how='left')\n",
    "    bigc = mg.reset_index(drop=True)\n",
    "\n",
    "    bigc.columns = ['APINumber_raw','CAS Number','Name','Mass of chemical','Percent ranking in FracFocus','bgOperatorName','API Number','FID','Operator']\n",
    "    iShow(bigc[['FID','API Number','Operator','CAS Number','Name','Mass of chemical','Percent ranking in FracFocus']],\n",
    "          maxBytes=0,classes=\"display compact cell-border\")\n",
    "else:\n",
    "    display(md('## No disclosures with chemicals-of-concern masses in the top 10% of FracFocus'))"
   ]
  },
  {
   "cell_type": "markdown",
   "id": "e9b9283d-81c9-4669-abf6-5ea4986f3f70",
   "metadata": {},
   "source": [
    "---\n",
    "<a id='silent'></a>\n",
    "# \"Silent\" changes detected"
   ]
  },
  {
   "cell_type": "markdown",
   "id": "436ba54a-b130-4b66-b944-9afed04457e9",
   "metadata": {},
   "source": [
    "FracFocus allows companies to change disclosures *after* they have been published.  That includes changing individual data records in disclosures and even completely removing a disclosure.  What these changes are and why they are made is not recorded, at least for public access.\n",
    "\n",
    "Open-FF tries to detect such changes by comparing ALL current disclosures to an archive from the last download.  The table below summarizes the changes detected since the last new-data was posted.  Note that Open-FF currently checks only the major fields in the bulk download file for changes, not every byte.\n",
    "\n",
    "\n"
   ]
  },
  {
   "cell_type": "code",
   "execution_count": null,
   "id": "dc8b7620-515c-4f1e-82c0-68bc8c2507a5",
   "metadata": {},
   "outputs": [],
   "source": [
    "def get_orig_date(s):\n",
    "    try:\n",
    "        l = s.split(' ')\n",
    "        return pd.to_datetime(l[0])\n",
    "    except:\n",
    "        return s\n",
    "def get_num_fields(s):\n",
    "    if s:\n",
    "        return str(s.count(';'))\n",
    "    return '?'\n",
    "\n",
    "silent = pd.read_csv(transformed_loc+'tripwire_summary.csv',quotechar='$',encoding='utf-8',\n",
    "                    dtype={'APINumber':'str'})\n",
    "silent['detected'] = pd.to_datetime(silent.new_date)\n",
    "silent['job_end_date'] = silent.orig_date.map(lambda x: get_orig_date(x))\n",
    "silent.fields_changed.fillna('dropped',inplace=True)\n",
    "silent['num_fields_changed'] = silent.fields_changed.map(lambda x: get_num_fields(x))\n",
    "silent = silent[silent.detected>last_report_dt]\n",
    "iShow(silent[['APINumber','OperatorName','job_end_date','type_of_diff',\n",
    "              'num_fields_changed','detected','UploadKey']].reset_index(drop=True),\n",
    "      maxBytes=0,classes=\"display compact cell-border\")\n"
   ]
  },
  {
   "cell_type": "markdown",
   "id": "b9fdcd4f-b3be-4896-9613-e1944a290245",
   "metadata": {},
   "source": [
    "---\n",
    "<a id='pubfreq'></a>\n",
    "# Overall fracking frequency and water use in FracFocus\n",
    "Number of disclosures per week by the end date of the job.   "
   ]
  },
  {
   "cell_type": "code",
   "execution_count": null,
   "id": "c67e0634-b596-4edf-98c3-c950d5669ee0",
   "metadata": {},
   "outputs": [],
   "source": [
    "\n",
    "alldf = df[df.data_source=='bulk'].groupby('UploadKey',as_index=False)['date'].first()\n",
    "#alldf = df.groupby('UploadKey',as_index=False)['date'].first()\n",
    "alldf = alldf[(alldf.date.dt.year>2010)&(alldf.date.dt.year<=datetime.now().year)]\n",
    "gb = alldf.groupby('date').size()\n",
    "allwk_sum = gb.resample(\"W\").sum()\n",
    "\n",
    "#ax = wk_sum.plot(figsize=(12,5),title='Number of disclosures published by FracFocus weekly', ylabel='Number of disclosures');\n",
    "\n",
    "ax = allwk_sum.plot(figsize=(12,5), ylabel='Number of disclosures');\n",
    "ax.set_title('Weekly number of disclosures by end date in bulk download data',fontsize=15);\n"
   ]
  },
  {
   "cell_type": "markdown",
   "id": "95614564-abcf-49d6-89a3-83eacee7bc3a",
   "metadata": {},
   "source": [
    "Total water use\n"
   ]
  },
  {
   "cell_type": "code",
   "execution_count": null,
   "id": "a88639ae-afd9-41d1-82fb-2a89c613a51c",
   "metadata": {},
   "outputs": [],
   "source": [
    "alldf = df[df.data_source=='bulk'].groupby('UploadKey',as_index=False)[['date','TotalBaseWaterVolume']].first()\n",
    "alldf = alldf[(alldf.date.dt.year>2010)&(alldf.date.dt.year<=datetime.now().year)]\n",
    "gb3 = alldf.groupby('date')['TotalBaseWaterVolume'].sum()\n",
    "allwk_tbwv_sum = gb3.resample(\"W\").sum()\n",
    "ax = allwk_tbwv_sum.plot(figsize=(12,5), ylabel='Total Water Volume Used By Week',style='o');\n",
    "ax.set_title('Total weekly water use across FracFocus',fontsize=18);\n",
    "plt.suptitle('Data for most recent months probably relects publication delays.',fontsize=10);\n",
    "ax = gca().yaxis.set_major_formatter(mpl.ticker.StrMethodFormatter('{x:,.0f}'))\n",
    "\n"
   ]
  },
  {
   "cell_type": "code",
   "execution_count": null,
   "id": "b98f09fd-d061-4090-8a3f-8cca8895188a",
   "metadata": {},
   "outputs": [],
   "source": [
    "set_page_param()"
   ]
  }
 ],
 "metadata": {
  "hide_input": false,
  "kernelspec": {
   "display_name": "Python 3 (ipykernel)",
   "language": "python",
   "name": "python3"
  },
  "language_info": {
   "codemirror_mode": {
    "name": "ipython",
    "version": 3
   },
   "file_extension": ".py",
   "mimetype": "text/x-python",
   "name": "python",
   "nbconvert_exporter": "python",
   "pygments_lexer": "ipython3",
   "version": "3.10.11"
  }
 },
 "nbformat": 4,
 "nbformat_minor": 5
}
