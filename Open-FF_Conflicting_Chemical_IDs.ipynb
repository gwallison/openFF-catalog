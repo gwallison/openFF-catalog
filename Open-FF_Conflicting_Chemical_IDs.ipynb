{
 "cells": [
  {
   "cell_type": "markdown",
   "id": "institutional-present",
   "metadata": {},
   "source": [
    "# List of conflicting CASNumber & IngredientName pairs\n",
    "\n"
   ]
  },
  {
   "cell_type": "code",
   "execution_count": null,
   "id": "08163006-eb07-4377-af4b-24135a135363",
   "metadata": {},
   "outputs": [],
   "source": [
    "%run \"catalog_common.py\" \n",
    "ID_header('Open-FF:  Conflicting CASNumber/IngredientName pairs', incl_links=True)\n",
    "set_page_param()"
   ]
  },
  {
   "cell_type": "code",
   "execution_count": null,
   "id": "worthy-madison",
   "metadata": {},
   "outputs": [],
   "source": [
    "import pandas as pd\n",
    "import numpy as np\n",
    "from itables import init_notebook_mode\n",
    "init_notebook_mode(all_interactive=True)\n",
    "from itables import show as iShow\n",
    "import itables.options as opt"
   ]
  },
  {
   "cell_type": "code",
   "execution_count": null,
   "id": "western-arabic",
   "metadata": {},
   "outputs": [],
   "source": [
    "df_cas = ana_set.Catalog_set(repo = repo_name, outdir='../common/').get_set(verbose=False)"
   ]
  },
  {
   "cell_type": "code",
   "execution_count": null,
   "id": "younger-button",
   "metadata": {},
   "outputs": [],
   "source": [
    "len(df_cas[df_cas.bgCAS=='conflictingID'])"
   ]
  },
  {
   "cell_type": "code",
   "execution_count": null,
   "id": "judicial-language",
   "metadata": {},
   "outputs": [],
   "source": [
    "gb = df_cas.groupby(['CASNumber','IngredientName'],as_index=True)['UploadKey'].count().reset_index()\n",
    "gb = gb.rename({'UploadKey':'record_count'},axis=1)"
   ]
  },
  {
   "cell_type": "code",
   "execution_count": null,
   "id": "declared-excitement",
   "metadata": {},
   "outputs": [],
   "source": [
    "df_cas.TradeName = df_cas.TradeName.fillna('missing')\n",
    "gb2 = df_cas[df_cas.bgCAS=='conflictingID'].groupby(['CASNumber','IngredientName'])['TradeName'].apply(set).reset_index()\n",
    "gb2\n",
    "gb3 = df_cas[df_cas.bgCAS=='conflictingID'].groupby(['CASNumber','IngredientName'])['TradeName'].nunique().reset_index()\n",
    "gb3\n",
    "gb3.columns = ['CASNumber','IngredientName','TradeName_count']"
   ]
  },
  {
   "cell_type": "code",
   "execution_count": null,
   "id": "purple-giant",
   "metadata": {},
   "outputs": [],
   "source": [
    "casing = grd.get_curated_df(repo_name,'casing_curated.csv')\n",
    "casing = casing[casing.bgSource=='conflict']\n",
    "casing = pd.merge(casing,gb,on=['CASNumber','IngredientName'],how='left')\n",
    "casing = pd.merge(casing,gb2,on=['CASNumber','IngredientName'],how='left')\n",
    "casing = pd.merge(casing,gb3,on=['CASNumber','IngredientName'],how='left')\n",
    "#iShow(casing,maxBytes=0)"
   ]
  },
  {
   "cell_type": "code",
   "execution_count": null,
   "id": "simple-wound",
   "metadata": {},
   "outputs": [],
   "source": [
    "ref = grd.get_curated_df(repo_name,'CAS_ref_and_names.csv')\n",
    "ref.columns = ['curatedCAS','name from CASNumber']\n",
    "#ref"
   ]
  },
  {
   "cell_type": "code",
   "execution_count": null,
   "id": "timely-midnight",
   "metadata": {},
   "outputs": [],
   "source": [
    "casing = pd.merge(casing,ref,on='curatedCAS',how='left')\n",
    "ref.columns = ['prospect_CAS_fromIng','name from IngNames CAS']\n",
    "casing = pd.merge(casing,ref,on='prospect_CAS_fromIng',how='left')\n",
    "#casing"
   ]
  },
  {
   "cell_type": "markdown",
   "id": "directed-hands",
   "metadata": {},
   "source": [
    "|Explanation of columns in the index|\n",
    "| :---: |\n",
    "\n",
    "| Column      | Description |\n",
    "| :----: | :-------- |\n",
    "|*CASNumber*| is the text in the CASNumber field of the original FracFocus data set, as found.|\n",
    "|*IngredientName*| is the text in the IngredientName field of the original FracFocus data set, as found.|\n",
    "|*bgCAS*| is Open-FF's best guest at the actual CAS registry number for the record. If it is a text value, an authoritative CAS number could not be reliably assigned.\n",
    "|*bgIngredientName*| is the \"primary name\" assigned by SciFinder to the bgCAS value.|\n",
    "|*record_count*| is the number of times this CASNumber/IngredientName pair occurs in the original FracFocus data set.|\n",
    "|*category*| Open-FF's designation of the type of assignment made.  For example, 'perfect match' means that the original FracFocus CASNumber perfectly matched an authoritative CAS registry number, whereas 'corrected' indicates that Open-FF had to interpret the original information to assign an authoritative registration number.|\n",
    "|*close_syn* and *comment*| these are notes made during the curation process. |\n"
   ]
  },
  {
   "cell_type": "code",
   "execution_count": null,
   "id": "contemporary-filling",
   "metadata": {},
   "outputs": [],
   "source": [
    "gb1 = df_cas.groupby(['CASNumber','IngredientName'],as_index=True)['bgIngredientName'].first().reset_index()\n",
    "\n",
    "casing = pd.merge(casing,gb1,on=['CASNumber','IngredientName'],how='left')\n",
    "casing['<CAS'] = '<h1>||</h1>'\n",
    "casing['<Ing'] = '<h1>||</h1>'\n",
    "casing.CASNumber = '<b>'+casing.CASNumber+'</b>'\n",
    "casing.IngredientName = '<b>'+casing.IngredientName+'</b>'\n",
    "casing['structure_l'] = casing.curatedCAS+'<br>'+casing.curatedCAS.map(lambda x: getChemIDImg(x))\n",
    "casing['structure_r'] = casing.prospect_CAS_fromIng+'<br>'+casing.prospect_CAS_fromIng.map(lambda x: getChemIDImg(x))\n",
    "casing.structure_l = '<center>'+casing.structure_l+casing['name from CASNumber']+'</center>'\n",
    "casing.structure_r = '<center>'+casing.structure_r+casing['name from IngNames CAS']+'</center>'\n",
    "# casing['curCAS'] = casing.curatedCAS+'<br>'+casing.categoryCAS\n",
    "# casing['curING'] = casing.prospect_CAS_fromIng+'<br>'+casing.syn_code\n",
    "# casing['curfinal'] = '<h3>'+casing.bgCAS+'</h3><br>'+casing.bgSource\n",
    "#casing.comment.fillna('',inplace=True)\n",
    "iShow(casing[['CASNumber','structure_l','IngredientName','structure_r','record_count','TradeName_count']].reset_index(drop=True))"
   ]
  },
  {
   "cell_type": "code",
   "execution_count": null,
   "id": "ultimate-action",
   "metadata": {},
   "outputs": [],
   "source": []
  }
 ],
 "metadata": {
  "hide_input": false,
  "kernelspec": {
   "display_name": "Python 3 (ipykernel)",
   "language": "python",
   "name": "python3"
  },
  "language_info": {
   "codemirror_mode": {
    "name": "ipython",
    "version": 3
   },
   "file_extension": ".py",
   "mimetype": "text/x-python",
   "name": "python",
   "nbconvert_exporter": "python",
   "pygments_lexer": "ipython3",
   "version": "3.9.7"
  }
 },
 "nbformat": 4,
 "nbformat_minor": 5
}
