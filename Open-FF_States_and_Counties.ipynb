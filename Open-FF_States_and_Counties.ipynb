{
 "cells": [
  {
   "cell_type": "code",
   "execution_count": null,
   "id": "354315a7-7c8b-434d-af28-9b913afb3874",
   "metadata": {},
   "outputs": [],
   "source": [
    "%run \"catalog_common.py\" \n",
    "ID_header('Open-FF: State Index', incl_links=True)\n",
    "set_page_param()\n"
   ]
  },
  {
   "cell_type": "code",
   "execution_count": null,
   "id": "2759b118-47ac-4b05-9d38-a74ac3282868",
   "metadata": {},
   "outputs": [],
   "source": [
    "import pandas as pd\n",
    "import numpy as np\n",
    "from itables import init_notebook_mode\n",
    "init_notebook_mode(all_interactive=True)\n",
    "from itables import show as iShow\n",
    "import itables.options as opt\n",
    "\n",
    "df = ana_set.Full_set(repo = repo_name, outdir='../common/').get_set(verbose=False)\n",
    "# gb2 = df_cas.groupby('bgCAS')['IngredientName'].agg(lambda x: x.value_counts().index[0])\n",
    "# gb2 = gb2.reset_index()\n",
    "# gb2.columns = ['bgCAS','comm_name']\n",
    "# df_cas = pd.merge(df_cas,gb2,on='bgCAS',how='left')\n",
    "# # df_cas.columns"
   ]
  },
  {
   "cell_type": "code",
   "execution_count": null,
   "id": "b62f4261-271f-4a49-be25-b7afc8d84d8e",
   "metadata": {},
   "outputs": [],
   "source": [
    "gb = df[(df.in_std_filtered)&(df.loc_within_state=='YES')].groupby(['bgStateName','bgCountyName','UploadKey'],as_index=False)['date'].first()\n",
    "gb1 = gb.groupby('bgStateName',as_index=False)['UploadKey'].count().rename({'UploadKey':'Number of disclosures'},axis=1)\n",
    "\n",
    "gb2 = gb.groupby(['bgStateName','bgCountyName'],as_index=False)['UploadKey'].count()\n",
    "gb2 = gb2.groupby('bgStateName',as_index=False)['bgCountyName'].count().rename({'bgCountyName':'Number of counties'},axis=1)\n",
    "\n",
    "gb3 = gb.groupby('bgStateName',as_index=False)['date'].agg(['min','max']).rename({'min':'earliest',\n",
    "                                                                                  'max':'latest'},axis=1)\n",
    "mg = pd.merge(gb1,gb2,on='bgStateName',how='left')\n",
    "mg = pd.merge(mg,gb3,on='bgStateName',how='left')\n",
    "mg = mg.rename({'bgStateName':'State'},axis=1)\n",
    "# mg = mg.reset_index(drop=True)\n",
    "mg.State = '<center><h3>'+mg.State.str.title().map(lambda x: getStateLink(x,x))+'</h3></center>'\n",
    "mg = mg.sort_values('Number of disclosures',ascending=False)\n",
    "\n",
    "import itables.options as opt\n",
    "opt.order = []  # no sorting\n",
    "\n",
    "iShow(mg.reset_index(drop=True),paging=False)"
   ]
  },
  {
   "cell_type": "code",
   "execution_count": null,
   "id": "3431ab03-32bc-40ea-b341-9eb656638a4f",
   "metadata": {},
   "outputs": [],
   "source": []
  }
 ],
 "metadata": {
  "kernelspec": {
   "display_name": "Python 3 (ipykernel)",
   "language": "python",
   "name": "python3"
  },
  "language_info": {
   "codemirror_mode": {
    "name": "ipython",
    "version": 3
   },
   "file_extension": ".py",
   "mimetype": "text/x-python",
   "name": "python",
   "nbconvert_exporter": "python",
   "pygments_lexer": "ipython3",
   "version": "3.10.12"
  }
 },
 "nbformat": 4,
 "nbformat_minor": 5
}
