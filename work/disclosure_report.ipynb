{
 "cells": [
  {
   "cell_type": "code",
   "execution_count": null,
   "id": "7af406d4-1dd0-4905-bb6a-77bdb9f98429",
   "metadata": {},
   "outputs": [],
   "source": [
    "# %cd ./work\n",
    "# %pwd"
   ]
  },
  {
   "cell_type": "code",
   "execution_count": null,
   "id": "a4c09db7-b59f-40f3-8c4d-da124c7037f4",
   "metadata": {},
   "outputs": [],
   "source": [
    "%run \"../catalog_common.py\""
   ]
  },
  {
   "cell_type": "code",
   "execution_count": null,
   "id": "8bf11553-0fb6-433c-bee9-5521e41a32bb",
   "metadata": {},
   "outputs": [],
   "source": [
    "# import sys\n",
    "# sys.path.insert(0,'c:/MyDocs/OpenFF/src/openFF-catalog/')\n",
    "# import catalog_common as cc"
   ]
  },
  {
   "cell_type": "code",
   "execution_count": null,
   "id": "79085df4-fdd8-4af2-9fbb-0414a407d14f",
   "metadata": {},
   "outputs": [],
   "source": [
    "#preamble to analysis\n",
    "import pandas as pd\n",
    "import numpy as np\n",
    "from IPython.display import Markdown as md\n",
    "from IPython.display import HTML, display\n",
    "from time import sleep\n",
    "\n",
    "from itables import init_notebook_mode\n",
    "init_notebook_mode(all_interactive=True,connected=True)\n",
    "from itables import show as iShow\n",
    "import itables.options as opt\n",
    "opt.order = []  # no sorting"
   ]
  },
  {
   "cell_type": "code",
   "execution_count": null,
   "id": "b68199e2-8615-4b62-ae24-56d2bf5602a5",
   "metadata": {},
   "outputs": [],
   "source": [
    "alldf = pd.read_csv('disclosure.csv',low_memory=False)\n",
    "date_str = alldf.date.iloc[0]\n",
    "alldf.date = pd.to_datetime(alldf.date)\n",
    "uploadKey = alldf.UploadKey.iloc[0]\n",
    "api10 = alldf.api10.iloc[0]"
   ]
  },
  {
   "cell_type": "code",
   "execution_count": null,
   "id": "20436324-3169-4ff4-8f7f-df0d28f4a54a",
   "metadata": {},
   "outputs": [],
   "source": [
    "ID_header(f'API: {api10}<br> {date_str}', subtitle=f'Open-FF Disclosure Summary<br>{uploadKey}',incl_links=True,\n",
    "          link_up_level=True)\n",
    "set_page_param()"
   ]
  },
  {
   "cell_type": "code",
   "execution_count": null,
   "id": "c2ddbea0-69e0-498d-b092-706b06d321c9",
   "metadata": {
    "tags": []
   },
   "outputs": [],
   "source": [
    "alldf"
   ]
  }
 ],
 "metadata": {
  "kernelspec": {
   "display_name": "Python 3 (ipykernel)",
   "language": "python",
   "name": "python3"
  },
  "language_info": {
   "codemirror_mode": {
    "name": "ipython",
    "version": 3
   },
   "file_extension": ".py",
   "mimetype": "text/x-python",
   "name": "python",
   "nbconvert_exporter": "python",
   "pygments_lexer": "ipython3",
   "version": "3.10.12"
  }
 },
 "nbformat": 4,
 "nbformat_minor": 5
}
