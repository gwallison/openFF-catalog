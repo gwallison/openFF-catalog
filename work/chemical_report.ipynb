{
 "cells": [
  {
   "cell_type": "code",
   "execution_count": null,
   "metadata": {},
   "outputs": [],
   "source": [
    "%run \"../catalog_common.py\""
   ]
  },
  {
   "cell_type": "markdown",
   "metadata": {},
   "source": [
    "### Open-FF Chemical Report\n",
    "This is a script-generated report about a specific chemical used in the Hydraulic Fracking industry. The source of these data is the industry-sponsored website [FracFocus](https://fracfocus.org/), but are analyzed by the independent project [Open-FF](https://frackingchemicaldisclosure.wordpress.com/).\n",
    "\n",
    "Molecule images courtesy of [ChemID](https://chem.nlm.nih.gov/chemidplus/) and [CompTox](https://comptox.epa.gov/dashboard/). Disclosures before 2011 are not included.\n"
   ]
  },
  {
   "cell_type": "code",
   "execution_count": null,
   "metadata": {},
   "outputs": [],
   "source": [
    "#### SHOW  MASSINGREDIENT?\n",
    "show_MI = True\n",
    "\n",
    "####  Show Maps?\n",
    "show_maps = True"
   ]
  },
  {
   "cell_type": "code",
   "execution_count": null,
   "metadata": {},
   "outputs": [],
   "source": [
    "#preamble to analysis\n",
    "import pandas as pd\n",
    "import numpy as np\n",
    "import matplotlib.pyplot as plt\n",
    "from pylab import gca, mpl\n",
    "\n",
    "%matplotlib inline\n",
    "import seaborn as sns\n",
    "import matplotlib.ticker\n",
    "from IPython.display import Markdown as md\n",
    "from IPython.display import HTML, display\n",
    "from time import sleep\n",
    "\n",
    "from itables import init_notebook_mode\n",
    "init_notebook_mode(all_interactive=True)\n",
    "from itables import show as iShow\n",
    "import itables.options as opt\n",
    "\n",
    "\n"
   ]
  },
  {
   "cell_type": "code",
   "execution_count": null,
   "metadata": {},
   "outputs": [],
   "source": [
    "# Data for this cas chemical\n",
    "alldf = pd.read_csv('data.csv',low_memory=False)\n",
    "alldf['has_mass'] = alldf.calcMass>0\n",
    " \n",
    "alldf['MI_comp'] = np.where(alldf.massComp.isna(),'n/a','verified')\n",
    "alldf.MI_comp = np.where(alldf.massCompFlag==True,'suspect',alldf.MI_comp)\n",
    "df = alldf[alldf.in_std_filtered].copy()\n",
    "#print(df.columns)\n",
    "# dataset-wide flags\n",
    "have_data = len(df)>0\n",
    "have_mass = df.calcMass.max()>0\n",
    "if show_MI:\n",
    "    have_MI_data = len(df[~(df.calcMass>0)&(df.cleanMI>0)])>0\n",
    "else:\n",
    "    have_MI_data = False\n"
   ]
  },
  {
   "cell_type": "code",
   "execution_count": null,
   "metadata": {},
   "outputs": [],
   "source": [
    "# get some global values\n",
    "ref_df = pd.read_csv('ref.csv')\n",
    "ref_df.set_index('varname',inplace=True)\n"
   ]
  },
  {
   "cell_type": "code",
   "execution_count": null,
   "metadata": {},
   "outputs": [],
   "source": [
    "# get epa and other names\n",
    "names = pd.read_csv('bgCAS.csv')\n",
    "names = names.fillna('--')"
   ]
  },
  {
   "cell_type": "code",
   "execution_count": null,
   "metadata": {},
   "outputs": [],
   "source": [
    "cas = ref_df.at['target_cas','value'].strip()\n",
    "epa_sub = names[names.bgCAS==cas]['epa_Substance_Name'].values[0]\n",
    "cas_orig = names[names.bgCAS==cas]['bgIngredientName'].values[0]\n",
    "#eh_name = names[names.bgCAS==cas]['eh_IngredientName'].values[0]\n",
    "epa_reg = names[names.bgCAS==cas]['epa_Registry_Name'].values[0]\n",
    "try:\n",
    "    comm_name = df.IngredientName.value_counts().index[0]\n",
    "except:\n",
    "    comm_name = ''\n",
    "\n",
    "ing_name = epa_sub\n",
    "if ing_name == '--':\n",
    "    if epa_reg != '--':\n",
    "        ing_name= epa_reg\n",
    "    else:\n",
    "        ing_name=cas_orig\n",
    "#print(f'{epa_sub}\\n{epa_reg}\\n{cas_orig}\\n{eh_name}')\n",
    "\n",
    "# subname = epa_sub\n",
    "# subtitle = 'Substance name (EPA list)'\n",
    "# if epa_sub=='_empty_':\n",
    "#     subname = cas_orig\n",
    "#     subtitle = 'Substance name (SciFinder)'\n",
    "# if epa_reg != '_empty_':\n",
    "#     regname = epa_reg\n",
    "#     regtitle = 'Registry name (EPA list)'\n",
    "# else:\n",
    "#     regname = ''; regtitle = ''\n",
    "# # if eh_name !='_empty_':\n",
    "# #     ehname = eh_name\n",
    "# #     ehtitle = 'Name used in Elsner/Hoelzer'\n",
    "# # else:\n",
    "# #     ehname = ''; ehtitle = ''\n",
    "# if comm_name:\n",
    "#     commname = comm_name\n",
    "#     commtitle = 'Most freqently used name \\nin FF IngredientName'\n",
    "# else:\n",
    "#     commname = ''; commtitle = ''"
   ]
  },
  {
   "cell_type": "code",
   "execution_count": null,
   "metadata": {},
   "outputs": [],
   "source": [
    "ID_header(title=f'{cas}<br>{ing_name}',\n",
    "          #subtitle='Open-FF:  Detailed Chemical Report', \n",
    "          imagelink = f'<img src=\"https://chem.nlm.nih.gov/chemidplus/structure/{cas}\" alt=\"no image available from ChemID\">',\n",
    "          incl_links=True,\n",
    "          link_up_level=True)\n",
    "set_page_param()\n"
   ]
  },
  {
   "cell_type": "code",
   "execution_count": null,
   "metadata": {},
   "outputs": [],
   "source": [
    "# chemid = f'<p style=\"text-align: center; font-size:400%\">{cas}</p>'\n",
    "# if cas in ['conflictingID','proprietary','ambiguousID','sysAppMeta']:\n",
    "#     chemid = f'<p style=\"text-align: center; font-size:200%\">{cas}</p>'\n",
    "\n",
    "# regcode = f\"\"\"       <tr>\n",
    "#                         <td><p style=\"text-align: center; font-size:100%\">{regtitle}</p></td>\n",
    "#                     </tr>\n",
    "#                     <tr>\n",
    "#                         <td><p style=\"text-align: center; font-size:200%\">{regname}</p>'</td>\n",
    "#                     </tr>\"\"\"\n",
    "# if regname == '':\n",
    "#     regcode = ''\n",
    "# commcode = f\"\"\"       <tr>\n",
    "#                         <td><p style=\"text-align: center; font-size:100%\">{commtitle}</p></td>\n",
    "#                     </tr>\n",
    "#                     <tr>\n",
    "#                         <td><p style=\"text-align: center; font-size:200%\">{commname}</p>'</td>\n",
    "#                     </tr>\"\"\"\n",
    "# if commname == '':\n",
    "#     commcode = ''\n",
    "# ehcode = f\"\"\"       <tr>\n",
    "#                         <td><p style=\"text-align: center; font-size:100%\">{ehtitle}</p></td>\n",
    "#                     </tr>\n",
    "#                     <tr>\n",
    "#                         <td><p style=\"text-align: center; font-size:200%\">{ehname}</p>'</td>\n",
    "#                     </tr>\"\"\"\n",
    "# if ehname == '':\n",
    "#     ehcode = ''\n",
    "\n",
    "# display(HTML(f\"\"\"<style>\n",
    "#                 </style>\n",
    "#                 <table style='margin: 0 auto' >\n",
    "#                 <tr>\n",
    "#                 <td width=25%>\n",
    "#                     <table >\n",
    "#                     <tr>\n",
    "#                         <td><p style=\"text-align: center; font-size:100%\">CAS Registration Number</p></td>\n",
    "#                     </tr>\n",
    "#                     <tr>\n",
    "#                         <td>{chemid}</td>\n",
    "#                     </tr>\n",
    "#                     <tr>\n",
    "#                         <td  align=\"left\">\n",
    "#                             <img src=\"https://chem.nlm.nih.gov/chemidplus/structure/{cas}\" alt=\"no image available from ChemID\" />\n",
    "#                         </td>\n",
    "#                     </tr>\n",
    "#                     </table>\n",
    "#                 <td width=75%>\n",
    "#                     <table >\n",
    "#                     <tr>\n",
    "#                         <td><p style=\"text-align: center; font-size:100%\">{subtitle}</p></td>\n",
    "#                     </tr>\n",
    "#                     <tr>\n",
    "#                         <td><p style=\"text-align: center; font-size:200%\">{subname}</p>'</td>\n",
    "#                     </tr>\n",
    "#                     {regcode}\n",
    "#                     {commcode}\n",
    "#                     </table>\n",
    "                    \n",
    "#             </table>\"\"\"))"
   ]
  },
  {
   "cell_type": "code",
   "execution_count": null,
   "metadata": {},
   "outputs": [],
   "source": [
    "#display(md(f'<center><img src=\"https://chem.nlm.nih.gov/chemidplus/structure/{cas}\" alt=\"no image available from ChemID\"></center>'))"
   ]
  },
  {
   "cell_type": "code",
   "execution_count": null,
   "metadata": {},
   "outputs": [],
   "source": [
    "if not have_data:\n",
    "    display(md('## THERE ARE NO RECORDS IN THE FILTERED DATA FOR THIS CHEMICAL\\n\\nOnly limited analysis is possible\\n\\n'))\n",
    "#     display(md('###aborting this notebook...\\n\\n'))\n",
    "else:\n",
    "    if not have_mass:\n",
    "        display(md('## There are no records for this chemical for which mass is calculable.'))\n",
    "        display(md('### Much of the analysis in this report will be left blank'))\n",
    "    \n"
   ]
  },
  {
   "cell_type": "code",
   "execution_count": null,
   "metadata": {},
   "outputs": [],
   "source": [
    "if have_data:\n",
    "    df.date = pd.to_datetime(df.date)\n",
    "    df['year'] = df.date.dt.year\n",
    "    df = df[df.year>2010]  # FF includes some old data but before 2011 are very sparse\n",
    "    #display(md('Disclosures before 2011 are not included in these analyses.'))\n",
    "    df.bgStateName = df.bgStateName.str.title()\n",
    "    df.bgCountyName = df.bgCountyName.str.title()"
   ]
  },
  {
   "cell_type": "markdown",
   "metadata": {},
   "source": [
    "### Table of Contents\n",
    "- [General information about the chemical](#info)\n",
    "- [General abundance](#frequency) within FracFocus & where those records occur\n",
    "- [Detailed abundance for all records](#detailAbundance)\n",
    "  - Uses by percentage of the fracking fluid\n",
    "  - Uses by mass\n",
    "- [Companies](#companies) supplying and using this chemical\n",
    "- [Patterns of use](#patterns)\n",
    "- [Disclosures list of biggest 100 uses](#biggest100) with map links\n",
    "- [Tables of raw](#raw) Names, CAS Numbers and Trade names associated with this chemical"
   ]
  },
  {
   "cell_type": "markdown",
   "metadata": {},
   "source": [
    "<a id='info'></a>"
   ]
  },
  {
   "cell_type": "code",
   "execution_count": null,
   "metadata": {},
   "outputs": [],
   "source": [
    "display(md(f'## Names for {cas}:'))\n",
    "display(md(f\"\"\"|Source|Name|\n",
    "| --- | --- |\n",
    "|SciFinder primary name:|**{cas_orig}**|\n",
    "|EPA - Substance name:|**{epa_sub}**|\n",
    "|EPA - Registry name:|**{epa_reg}**|\n",
    "|Most frequently used name in FF:|**{comm_name}**|\"\"\"))"
   ]
  },
  {
   "cell_type": "markdown",
   "metadata": {},
   "source": [
    "Visit the [Synonyms page](https://frackingchemicaldisclosure.wordpress.com/data-navigator/) for other names of this material."
   ]
  },
  {
   "cell_type": "markdown",
   "metadata": {},
   "source": [
    "<a id='frequency'></a>\n",
    "# General abundance"
   ]
  },
  {
   "cell_type": "code",
   "execution_count": null,
   "metadata": {},
   "outputs": [],
   "source": [
    "total_Upload = int(ref_df.at['tot_num_disc','value'])\n",
    "total_Upload_w_chem = int(ref_df.at['tot_num_disc_less_FFV1','value'])\n",
    "fil_Upload = int(ref_df.at['tot_num_disc_fil','value'])\n",
    "fil_Upload_w_chem = int(ref_df.at['tot_num_disc_fil_less_FFV1','value'])"
   ]
  },
  {
   "cell_type": "code",
   "execution_count": null,
   "metadata": {},
   "outputs": [],
   "source": [
    "pres = len(df.UploadKey.unique())\n",
    "massPres = len(df[df.calcMass>0].UploadKey.unique())\n",
    "totpres = len(alldf.UploadKey.unique())\n",
    "\n",
    "if totpres<300:\n",
    "    alpha = 1\n",
    "elif totpres<2000:\n",
    "    alpha = .6\n",
    "elif totpres<20000:\n",
    "    alpha = .35\n",
    "else:\n",
    "    alpha = .2\n"
   ]
  },
  {
   "cell_type": "code",
   "execution_count": null,
   "metadata": {},
   "outputs": [],
   "source": [
    "\n",
    "if (have_data):\n",
    "    if (pres/total_Upload_w_chem)>0.01: # don't show pie chart if presence is very small\n",
    "        x = [pres,fil_Upload_w_chem-pres]\n",
    "        labels = [f'{cas} present','not reported']\n",
    "        plt.figure(figsize=(5, 5))\n",
    "        plt.pie(x,explode=[0.15,0])\n",
    "        plt.legend(labels=labels)\n",
    "        title = f'Percent of all FracFocus disclosures that report the use of {cas}:'\n",
    "        title += f'\\n {round_sig(pres/fil_Upload_w_chem*100,3)}% '\n",
    "        plt.title(title,fontsize=16);\n",
    "        plt.show()\n",
    "    display(md(f\"\"\"||Unfiltered data set|Filtered data set|with calculated mass|\n",
    "|---|---|---|---|\n",
    "|Num disclosures|{totpres:,}|{pres:,}|{massPres:,}*|\n",
    "|% of disclosures|{round_sig(totpres/total_Upload_w_chem*100,3)}%|{round_sig(pres/fil_Upload_w_chem*100,3)}%|{round_sig(massPres/fil_Upload_w_chem*100,3)}%|\"\"\"))\n",
    "    if massPres<pres:\n",
    "        display(md(f'> *See [below](#massCompanies) for list of companies not reporting enough info for mass calculations'))"
   ]
  },
  {
   "cell_type": "code",
   "execution_count": null,
   "metadata": {},
   "outputs": [],
   "source": [
    "if show_maps:\n",
    "    display(md('# Where this material has been reported'))\n",
    "    display(md(f'FracFocus records that have conflicting or non-standard location data are not included. This includes many records in **Alaska**.'))"
   ]
  },
  {
   "cell_type": "code",
   "execution_count": null,
   "metadata": {},
   "outputs": [],
   "source": [
    "def ChemicalMap(df,casrn):\n",
    "    #start_loc = get_state_center(statename)\n",
    "    #print(statename,start_loc)\n",
    "    cond = (df.loc_within_state=='YES')&(df.loc_within_county=='YES')\n",
    "    gb = df[cond].groupby(['bgStateName','bgCountyName'],as_index=False)['bgCAS'].count()\n",
    "    gb = gb.rename({'bgStateName':'StateName','bgCountyName':'CountyName','bgCAS':'value'}, axis=1)\n",
    "    \n",
    "    gb1 = df[cond&(df.calcMass>0)].groupby(['bgStateName','bgCountyName'],as_index=False)['bgCAS'].count()\n",
    "    gb1 = gb1.rename({'bgStateName':'StateName','bgCountyName':'CountyName','bgCAS':'cnt_with_mass'}, axis=1)\n",
    "    gb = pd.merge(gb,gb1,on=['StateName','CountyName'],how='left')\n",
    "    \n",
    "    gb1 = df[cond].groupby(['bgStateName','bgCountyName'],as_index=False)['calcMass'].sum()\n",
    "    gb1 = gb1.rename({'bgStateName':'StateName','bgCountyName':'CountyName','calcMass':'mass_sum'}, axis=1)\n",
    "    gb = pd.merge(gb,gb1,on=['StateName','CountyName'],how='left')\n",
    "    gb.mass_sum = gb.mass_sum.map(lambda x: round_sig(x,3))\n",
    "    \n",
    "    \n",
    "    #print(gb.value.max())\n",
    "    if gb.value.max() > 1000:\n",
    "        logflag = True\n",
    "        if gb.value.max() > 10000:\n",
    "            bins = [0,1,2,3,4,5]\n",
    "        else:\n",
    "            bins = [0,1,2,3,4]\n",
    "    else:\n",
    "        logflag = False\n",
    "        if gb.value.max()>50:\n",
    "            bins = [0,20,50,100,500,1000]\n",
    "        else:\n",
    "            bins = [0,1,5,10,20,50]\n",
    "        \n",
    "    create_county_choropleth(gb,plotlog=logflag,custom_scale=bins,\n",
    "                             start_zoom=3,\n",
    "                             legend_name=f'Number of uses of {casrn}',\n",
    "                             fields=['StateName','CountyName','orig_value','cnt_with_mass','mass_sum'],\n",
    "                             aliases=['State: ','County: ','# chemical records: ',\n",
    "                                     '# records with calc. mass: ','Sum calc. mass (lbs): '])\n",
    "    \n",
    "\n",
    "if show_maps:\n",
    "    t = df[['bgStateName','bgCountyName','bgCAS','date','loc_within_state','loc_within_county','calcMass']]\n",
    "    t.bgStateName = t.bgStateName.str.lower()\n",
    "    t.bgCountyName = t.bgCountyName.str.lower()\n",
    "    ChemicalMap(t,cas)"
   ]
  },
  {
   "cell_type": "markdown",
   "metadata": {},
   "source": [
    "<a id='detailedAbundance'></a>\n",
    "# Detailed abundance\n"
   ]
  },
  {
   "cell_type": "markdown",
   "metadata": {},
   "source": [
    "Using all **filtered** data for this chemical.\n",
    "\n",
    "### Uses by percent of the fracking job\n",
    "This measure roughly shows a comparison of the concentration of the chemical in the whole fracking job (including the base fluid which is typically over 80%).  Only the disclosures where the sum of PercentHFJob is within 5% of 100% are considered \"valid.\" "
   ]
  },
  {
   "cell_type": "code",
   "execution_count": null,
   "metadata": {},
   "outputs": [],
   "source": [
    "# df[df.within_total_tolerance].PercentHFJob.max()\n",
    "# df.within_total_tolerance.sum()"
   ]
  },
  {
   "cell_type": "code",
   "execution_count": null,
   "metadata": {},
   "outputs": [],
   "source": [
    "if have_data:\n",
    "    df['not_present'] = 0\n",
    "    cond = (df.PercentHFJob>0) & (df.within_total_tolerance)\n",
    "    if df.PercentHFJob.max()>0:\n",
    "        df['not_present'] = df[cond].PercentHFJob.min() - (df[cond].PercentHFJob.max()-df[cond].PercentHFJob.min())*0.05\n",
    "    #print(df.PercentHFJob.median())\n",
    "    cond = (df.PercentHFJob>0) & (df.within_total_tolerance)\n",
    "    ax = df[cond].plot('date','PercentHFJob', style='o', alpha=alpha,\n",
    "                figsize=(16,6),legend=False)\n",
    "    df[~cond].plot('date','not_present', style='|', alpha=1,color='orange',ms=20, ax=ax,legend=False)\n",
    "    plt.ylabel('Percent of Job',fontsize=16);\n",
    "    plt.title(f'Percent of job that is {cas} - linear version',fontsize=16);\n",
    "    ax.grid()\n",
    "    ax.tick_params(axis=\"y\", labelsize=14)\n",
    "    ax.tick_params(axis=\"x\", labelsize=14)\n",
    "    "
   ]
  },
  {
   "cell_type": "code",
   "execution_count": null,
   "metadata": {},
   "outputs": [],
   "source": [
    "if have_mass:\n",
    "    display(md(f'##### Number of records with valid percentage data (shown by blue circles): {len(df[cond]):,}\\n'))\n",
    "    display(md(f'##### Number of records without valid percentage data (shown by orange bars): {len(df[~cond]):,}\\n'))\n",
    "    display(md('---'))"
   ]
  },
  {
   "cell_type": "code",
   "execution_count": null,
   "metadata": {},
   "outputs": [],
   "source": [
    "if have_mass:\n",
    "    ax = df[cond].plot('date','PercentHFJob', style='o', alpha=alpha,\n",
    "                figsize=(16,6))\n",
    "    plt.ylabel('Percent of Job',fontsize=16);\n",
    "    plt.title(f'Percent of Job that is {cas} - log version',fontsize=16);\n",
    "    ax.set(yscale='log')\n",
    "    ax.tick_params(axis=\"y\", labelsize=14)\n",
    "    ax.tick_params(axis=\"x\", labelsize=14)\n",
    "    #locmaj = matplotlib.ticker.LogLocator(base=10,numticks=7,subs='all') \n",
    "    if len(df[cond]) < 5000: # provide more detailed grid (too many points swamps it out)\n",
    "        locmaj = matplotlib.ticker.LogLocator(base=10,subs='all') \n",
    "    else:\n",
    "        locmaj = matplotlib.ticker.LogLocator(base=10) #,subs='all') \n",
    "    ax.yaxis.set_major_locator(locmaj)\n",
    "    ax.set(ylim=(max(0.000001,df.PercentHFJob.min()),\n",
    "                 df.PercentHFJob.max()*1.1));\n",
    "    ax.grid()\n",
    "\n",
    "    lns = list(np.percentile(df[cond].PercentHFJob,[25,50,75]))\n",
    "    #ax.set_ylim(-0.7,len(sn)-0.3)\n",
    "    for l in lns:\n",
    "        plt.hlines(l,df[cond].date.min(),\n",
    "                   df[cond].date.max(),\n",
    "                   color='black')\n",
    "    s = 'PERCENTILES:\\n'\n",
    "    s+= ' -- 25%:  {:.6} percent\\n'.format(float(lns[0]))\n",
    "    s+= ' -- 50%:  {:.6} percent\\n'.format(float(lns[1]))\n",
    "    s+= ' -- 75%:  {:.6} percent\\n'.format(float(lns[2]))\n",
    "    s+= ' -- max:  {:.6} percent\\n'.format(float(df[cond].PercentHFJob.max()))\n",
    "    print(s)\n"
   ]
  },
  {
   "cell_type": "markdown",
   "metadata": {},
   "source": [
    "<a id='by_mass'></a>\n",
    "## Uses by mass\n",
    "This measure shows a comparison of the absolute quantity of a chemical used in a fracking job. Masses are calculated from standard information provided in many chemical records, but a substantial number of disclosures do not provide sufficient data.\n",
    "\n",
    "**Color:** The calculated masses can sometimes be confirmed by a second (undocumented) source in the bulk data, a variable called \"MassIngredient.\" \n",
    "- RED: indicates that both calcMass and MassIngredient are available (and internally consistent) and match within a tolerance.  \n",
    "- GRAY: indicates a calculated mass for which no consistent MassIngredient was available.   \n",
    "- BLUE \"x\": indicates a MassIngredient value alone - a calculated mass is unavailable (often because a water carrier cannot be reliably identified). (These are only plotted in a verification mode.) \n",
    "- When MassIngredient and calculated mass disagree, no values are plotted."
   ]
  },
  {
   "cell_type": "code",
   "execution_count": null,
   "metadata": {},
   "outputs": [],
   "source": [
    "if not show_MI:\n",
    "    display(md(f'> MassIngredient displays are disabled'))"
   ]
  },
  {
   "cell_type": "code",
   "execution_count": null,
   "metadata": {},
   "outputs": [],
   "source": [
    "if (have_mass)|(show_MI & have_MI_data):\n",
    "    # set 'presence' data to below mass data\n",
    "    df['noMass'] = 0\n",
    "    if df.calcMass.max()>0:\n",
    "        df['noMass'] = df.calcMass.min() - (df.calcMass.max()-df.calcMass.min())*0.05\n",
    "    df.noMass = np.where(df.has_mass,np.NaN,df.noMass) \n",
    "    c = df.MI_comp=='n/a'\n",
    "    ax = df[c & (df.calcMass>0)].plot('date','calcMass', style='o', alpha=alpha, color='grey',\n",
    "                figsize=(16,6),legend=False)\n",
    "    c = df.MI_comp=='verified'\n",
    "    df[c & (df.calcMass>0)].plot('date','calcMass', style='o', alpha=alpha,\n",
    "                ax=ax, color='red')\n",
    "    try:\n",
    "        if show_MI:\n",
    "            c = ~(df.calcMass>0) & (df.cleanMI>0)\n",
    "            df[c].plot('date','cleanMI', style='x', alpha=alpha,\n",
    "                        ax=ax, color='blue')\n",
    "    except:\n",
    "        print('No cleanMI to plot')\n",
    "    \n",
    "    df[~df.has_mass].plot('date','noMass', style='|', alpha=1, ms=20, color='orange', legend=False,\n",
    "                          ax=ax)\n",
    "    plt.ylabel('Mass in pounds',fontsize=16);\n",
    "    plt.title(f'Mass of {cas} - linear version',fontsize=16);\n",
    "    ax.grid()\n",
    "    ax.tick_params(axis=\"y\", labelsize=14)\n",
    "    ax.tick_params(axis=\"x\", labelsize=14);\n",
    "    ax = gca().yaxis.set_major_formatter(mpl.ticker.StrMethodFormatter('{x:,.0f}'));\n"
   ]
  },
  {
   "cell_type": "code",
   "execution_count": null,
   "metadata": {},
   "outputs": [],
   "source": [
    "if (have_mass)|(show_MI & have_MI_data):\n",
    "    display(md(f'Number of records with a calculable mass (red and gray circles): **{len(df[df.has_mass]):,}**'))    \n",
    "    display(md(f'Number of records without a calculable mass (orange bars): **{len(df[~df.has_mass]):,}**'))\n",
    "    if show_MI:\n",
    "        display(md(f'Number of records with only MassIngredient (blue \"x\"s): **{len(df[~(df.calcMass>0) & (df.cleanMI>0)]):,}**'))\n",
    "    display(md('---'))"
   ]
  },
  {
   "cell_type": "code",
   "execution_count": null,
   "metadata": {},
   "outputs": [],
   "source": [
    "if (have_mass)|(show_MI):\n",
    "    c = df.MI_comp=='n/a'\n",
    "    ax = df[c & (df.calcMass>0)].plot('date','calcMass', style='o', alpha=alpha, legend=False,\n",
    "                color= 'grey', figsize=(16,6))\n",
    "    c = df.MI_comp=='verified'\n",
    "    df[c & (df.calcMass>0)].plot('date','calcMass', style='o', alpha=alpha,\n",
    "                ax=ax, color='red')\n",
    "    try:\n",
    "        if show_MI:\n",
    "            c = ~(df.calcMass>0) & (df.cleanMI>0)\n",
    "            df[c].plot('date','cleanMI', style='x', alpha=alpha,\n",
    "                        ax=ax, color='blue')\n",
    "    except:\n",
    "        print('No cleanMI to plot')\n",
    "    plt.ylabel('Mass in pounds',fontsize=16);\n",
    "    plt.title(f'Mass of {cas} - log version',fontsize=16);\n",
    "    ax.set(yscale='log')\n",
    "    ax.tick_params(axis=\"y\", labelsize=14)\n",
    "    ax.tick_params(axis=\"x\", labelsize=14)\n",
    "\n",
    "    if len(df) < 5000: # provide more detailed grid (too many points swamps it out)\n",
    "        locmaj = matplotlib.ticker.LogLocator(base=10,subs='all') \n",
    "    else:\n",
    "        locmaj = matplotlib.ticker.LogLocator(base=10) #,subs='all') \n",
    "    ax.yaxis.set_major_locator(locmaj)\n",
    "    \n",
    "    ax.set(ylim=(max(0.01,df.calcMass.min()),max(df.calcMass.max(),df.cleanMI.max())*1.2));\n",
    "    ax.grid()\n",
    "\n",
    "    lns = list(np.percentile(df[df.calcMass>0].calcMass,[25,50,75]))\n",
    "    #ax.set_ylim(-0.7,len(sn)-0.3)\n",
    "    for l in lns:\n",
    "        plt.hlines(l,df[df.calcMass>0].date.min(),\n",
    "                   df[df.calcMass>0].date.max(),\n",
    "                   color='black')\n",
    "    s = 'calcMass PERCENTILES:\\n'\n",
    "    s+= ' -- 25%:  {:,} pounds\\n'.format(int(lns[0]))\n",
    "    s+= ' -- 50%:  {:,} pounds\\n'.format(int(lns[1]))\n",
    "    s+= ' -- 75%:  {:,} pounds\\n'.format(int(lns[2]))\n",
    "    s+= ' -- max:  {:,} pounds\\n'.format(int(df.calcMass.max()))\n",
    "    print(s)"
   ]
  },
  {
   "cell_type": "markdown",
   "metadata": {},
   "source": [
    "<a id='companies'></a>\n",
    "# Companies\n",
    "Top companies using or supplying this material"
   ]
  },
  {
   "cell_type": "code",
   "execution_count": null,
   "metadata": {},
   "outputs": [],
   "source": [
    "if have_data:\n",
    "    ngroups = min(len(df.bgOperatorName.unique()),10)\n",
    "    fsiz = (8,(ngroups*0.4)+1)\n",
    "#     if ngroups < 6: fsiz = (8,3)\n",
    "#     else: fsiz = (8,8)\n",
    "    ax = df.groupby('bgOperatorName')['UploadKey'].count()\\\n",
    "         .sort_values(ascending=False)[:10].plot.barh(figsize=fsiz)\n",
    "    ax.tick_params(axis=\"y\", labelsize=14)\n",
    "    ax.tick_params(axis=\"x\", labelsize=14)\n",
    "    plt.xlabel('Number of records',fontsize=16);\n",
    "    plt.title(f'Number of chemical records using {cas} by operator',fontsize=16);\n",
    "\n"
   ]
  },
  {
   "cell_type": "markdown",
   "metadata": {},
   "source": [
    "## Which suppliers are most frequently named for this chemical?\n",
    "The field reported below is bgSupplier."
   ]
  },
  {
   "cell_type": "code",
   "execution_count": null,
   "metadata": {},
   "outputs": [],
   "source": [
    "if have_data:\n",
    "    ngroups = min(len(df.bgSupplier.unique()),10)\n",
    "    fsiz = (8,(ngroups*0.4)+1)\n",
    "    ax = df.groupby('bgSupplier')['UploadKey'].count()\\\n",
    "         .sort_values(ascending=False)[:10].plot.barh(figsize=fsiz)\n",
    "    ax.tick_params(axis=\"y\", labelsize=14)\n",
    "    ax.tick_params(axis=\"x\", labelsize=14)\n",
    "    plt.xlabel('Number of records',fontsize=16);\n",
    "    plt.title(f'Number of chemical records using {cas} by Supplier',fontsize=16);\n"
   ]
  },
  {
   "cell_type": "markdown",
   "metadata": {},
   "source": [
    "## Which primarySuppliers are most frequently associated with this chemical?\n",
    "The primarySupplier is a disclosure-level value and is not necessarily related to a given chemical record. Nevertheless, it indicates the supplier with the most records in a fracking job."
   ]
  },
  {
   "cell_type": "code",
   "execution_count": null,
   "metadata": {},
   "outputs": [],
   "source": [
    "if have_data:\n",
    "    ngroups = min(len(df.primarySupplier.unique()),10)\n",
    "    fsiz = (8,(ngroups*0.4)+1)\n",
    "    ax = df.groupby('primarySupplier')['UploadKey'].count()\\\n",
    "         .sort_values(ascending=False)[:10].plot.barh(figsize=fsiz);\n",
    "    ax.tick_params(axis=\"y\", labelsize=14)\n",
    "    ax.tick_params(axis=\"x\", labelsize=14)\n",
    "    plt.xlabel('Number of records',fontsize=16);\n",
    "    plt.title(f'Number of chemical records using {cas} associated with primarySupplier',fontsize=16);\n"
   ]
  },
  {
   "cell_type": "markdown",
   "metadata": {},
   "source": [
    "## Total mass reported by operator: Who uses the biggest quantity?\n",
    "The field reported below is bgOperator."
   ]
  },
  {
   "cell_type": "code",
   "execution_count": null,
   "metadata": {},
   "outputs": [],
   "source": [
    "\n",
    "if have_mass:\n",
    "    ngroups = min(len(df[df.calcMass>0].bgOperatorName.unique()),10)\n",
    "    fsiz = (8,(ngroups*0.4)+1)\n",
    "    ax =df[df.calcMass>0].groupby('bgOperatorName')['calcMass'].sum()\\\n",
    "         .sort_values(ascending=False)[:10].plot.barh(figsize=fsiz);\n",
    "    ax.tick_params(axis=\"y\", labelsize=14)\n",
    "    ax.tick_params(axis=\"x\", labelsize=14,rotation=75)\n",
    "    plt.xlabel('Mass (pounds)',fontsize=16);\n",
    "\n",
    "    plt.title(f'Total mass of {cas} used by operator',fontsize=16);"
   ]
  },
  {
   "cell_type": "markdown",
   "metadata": {},
   "source": [
    "## Total mass reported by primarySupplier - biggest associations"
   ]
  },
  {
   "cell_type": "code",
   "execution_count": null,
   "metadata": {},
   "outputs": [],
   "source": [
    "if have_mass:\n",
    "    ngroups = min(len(df[df.calcMass>0].bgOperatorName.unique()),10)\n",
    "    fsiz = (8,(ngroups*0.4)+1)\n",
    "    ax =df.groupby('primarySupplier')['calcMass'].sum()\\\n",
    "         .sort_values(ascending=False)[:10].plot.barh(figsize=fsiz);\n",
    "    ax.tick_params(axis=\"y\", labelsize=14)\n",
    "    ax.tick_params(axis=\"x\", labelsize=14,rotation=75)\n",
    "    plt.xlabel('Mass (pounds)',fontsize=16);\n",
    "    plt.title(f'Total mass of {cas} associated with primarySupplier',fontsize=16);"
   ]
  },
  {
   "cell_type": "markdown",
   "metadata": {},
   "source": [
    "<a id='patterns'></a>"
   ]
  },
  {
   "cell_type": "code",
   "execution_count": null,
   "metadata": {},
   "outputs": [],
   "source": [
    "if have_mass:\n",
    "    display(md('--- \\n ---'))\n",
    "    display(md('## Patterns of use'))\n",
    "    display(md('### Across some of the larger operators'))\n",
    "\n",
    "\n",
    "    sns.set(style=\"whitegrid\")\n",
    "    ops =df.groupby('bgOperatorName',as_index=False)['calcMass'].sum().sort_values(by='calcMass',\n",
    "                                                                                 ascending=False)[:6].bgOperatorName.tolist()\n",
    "    ngroups = len(ops)\n",
    "    t = df[df.bgOperatorName.isin(ops)]\n",
    "    #print(len(t))\n",
    "    #t = t[t.record_flags.str.contains('M')]\n",
    "    fig = plt.figure(figsize=(10,ngroups+1))\n",
    "    ax = sns.stripplot(x=t.calcMass,y=t.bgOperatorName,jitter=.2,alpha=.7)\n",
    "    plt.xlabel(f'mass in pounds: {cas}',fontsize=14);\n",
    "    plt.title(f'Variability in use of {cas} across some operators',fontsize=16)\n",
    "    ax.set(xscale='log')\n",
    "    ax.set(xlim=(max(0.1,t.calcMass.min()),t.calcMass.max()*1.1))\n",
    "    ax.tick_params(axis=\"x\", labelsize=14)\n",
    "    ax.tick_params(axis=\"y\", labelsize=14)\n",
    "    if len(t) < 5000: # provide more detailed grid (too many points swamps it out)\n",
    "        locmaj = matplotlib.ticker.LogLocator(base=10,subs='all') \n",
    "    else:\n",
    "        locmaj = matplotlib.ticker.LogLocator(base=10) #,subs='all') \n",
    "    ax.xaxis.set_major_locator(locmaj)\n"
   ]
  },
  {
   "cell_type": "code",
   "execution_count": null,
   "metadata": {},
   "outputs": [],
   "source": [
    "if have_mass:\n",
    "    display(md('### Across some of the primarySuppliers'))\n",
    "\n",
    "    sns.set(style=\"whitegrid\")\n",
    "    ops =df.groupby('primarySupplier',as_index=False)['calcMass'].sum().sort_values(by='calcMass',\n",
    "                                                                                 ascending=False)[:6].primarySupplier.tolist()\n",
    "    ngroups = len(ops)\n",
    "    t = df[df.primarySupplier.isin(ops)]\n",
    "    #print(len(t))\n",
    "    #t = t[t.record_flags.str.contains('M')]\n",
    "    fig = plt.figure(figsize=(10,ngroups+1))\n",
    "    ax = sns.stripplot(x=t.calcMass,y=t.primarySupplier,jitter=.2,alpha=.7)\n",
    "    plt.xlabel(f'mass in pounds: {cas}',fontsize=14);\n",
    "    plt.title(f'Variability in use of {cas} across some primarySuppliers',fontsize=16)\n",
    "    ax.set(xscale='log')\n",
    "    ax.set(xlim=(max(0.1,t.calcMass.min()),t.calcMass.max()*1.1))\n",
    "    ax.tick_params(axis=\"x\", labelsize=14)\n",
    "    ax.tick_params(axis=\"y\", labelsize=14)\n",
    "    if len(t) < 5000: # provide more detailed grid (too many points swamps it out)\n",
    "        locmaj = matplotlib.ticker.LogLocator(base=10,subs='all') \n",
    "    else:\n",
    "        locmaj = matplotlib.ticker.LogLocator(base=10) #,subs='all') \n",
    "    ax.xaxis.set_major_locator(locmaj)\n"
   ]
  },
  {
   "cell_type": "markdown",
   "metadata": {},
   "source": [
    "<a id='biggest100'></a>"
   ]
  },
  {
   "cell_type": "code",
   "execution_count": null,
   "metadata": {},
   "outputs": [],
   "source": [
    "if have_mass:\n",
    "    if massPres < 100:\n",
    "        display(md('## All disclosures with mass'))\n",
    "    else:\n",
    "        display(md('--- \\n ---\\n## Disclosures with the 100 largest uses'))\n",
    "    display(md('**calcMass** is in pounds. **map_link** provides a google map of site.  Note that the Google satellite map may be older than the well pad.'))"
   ]
  },
  {
   "cell_type": "code",
   "execution_count": null,
   "metadata": {},
   "outputs": [],
   "source": [
    "if have_mass:\n",
    "    mdf = df[df.calcMass>0].sort_values('calcMass',ascending=False).reset_index(drop=True)\n",
    "    #df['mass (pounds)'] = df.calcMass.map(lambda x: round_sig(x,4))\n",
    "    #df['water carrier (gallons)'] = df.TotalBaseWaterVolume.map(lambda x: round_sig(x,3))\n",
    "    iShow(mdf[['calcMass','MI_comp','bgStateName','bgCountyName','map_link','bgOperatorName','APINumber','TotalBaseWaterVolume',\n",
    "                'date','primarySupplier','bgSupplier','TradeName_trunc']].head(100))\n"
   ]
  },
  {
   "cell_type": "code",
   "execution_count": null,
   "metadata": {},
   "outputs": [],
   "source": [
    "if have_MI_data:\n",
    "    display(md('--- \\n ---\\n## MassIngredient: Disclosures with the largest cleanMI reports'))\n",
    "    display(md('These records do **not** have associated calcMass values, but have passed the within-disclosure consistency test.\\n'))\n",
    "    display(md('**cleanMI** is in pounds.  Use %TBWM and PercentHFJob to judge veracity of MassIngredient report.'))\n",
    "    display(md('In a typical fracking job where water is ~80-90%, PercentHFJob should be a bit smaller than %TBWM.'))\n",
    "    display(md('Big differences between the two imply something is wrong with TBWV or MI.'))"
   ]
  },
  {
   "cell_type": "code",
   "execution_count": null,
   "metadata": {},
   "outputs": [],
   "source": [
    "if have_MI_data:\n",
    "    mdf = df[~(df.calcMass>0)&(df.cleanMI>0)].sort_values('cleanMI',ascending=False).reset_index(drop=True)\n",
    "    mdf['%TBWM'] = mdf.cleanMI/(mdf.TotalBaseWaterVolume*8.34) *100\n",
    "    iShow(mdf[['cleanMI','%TBWM','PercentHFJob',\n",
    "               #'carrier_problem_flags',\n",
    "               'bgStateName','bgCountyName','map_link','bgOperatorName','APINumber','TotalBaseWaterVolume',\n",
    "                'date','primarySupplier','bgSupplier','TradeName_trunc']].head(100))\n"
   ]
  },
  {
   "cell_type": "markdown",
   "metadata": {},
   "source": [
    "<a id='raw'></a>\n",
    "\n",
    "---\n",
    "---\n",
    "# Raw fields for this chemical\n",
    "These are the fields in the raw FracFocus data as they are entered for the records positively identified as this chemical.  These raw fields often have typos, variations on a chemical name, etc.  In some cases, two variations may seem identical, but probably differ by non-printing characters."
   ]
  },
  {
   "cell_type": "code",
   "execution_count": null,
   "metadata": {},
   "outputs": [],
   "source": [
    "\n",
    "if have_data:\n",
    "    display(md('## Raw CASNumber variations encountered for this chemical'))\n",
    "\n",
    "    out = df.groupby('CASNumber',as_index=False)['bgCAS'].count().reset_index(drop=True)\n",
    "    gb1 = df.groupby('CASNumber')['bgOperatorName'].apply(set).reset_index()\n",
    "    gb1.columns = ['CASNumber','Operators']\n",
    "    gb1.Operators = gb1.Operators.map(lambda x: xlate_to_str(x,maxlen=10))\n",
    "    out = pd.merge(out,gb1,on='CASNumber',how='left')\n",
    "    gb2 = df.groupby('CASNumber')['primarySupplier'].apply(set).reset_index()\n",
    "    gb2.columns = ['CASNumber','primarySupplier']\n",
    "    gb2.primarySupplier = gb2.primarySupplier.map(lambda x: xlate_to_str(x,maxlen=10))\n",
    "    out = pd.merge(out,gb2,on='CASNumber',how='left').reset_index(drop=True)\n",
    "\n",
    "    out.columns = ['CASNumber','Number of records','Operators','primarySuppliers']\n",
    "    iShow(out,maxBytes=0)"
   ]
  },
  {
   "cell_type": "code",
   "execution_count": null,
   "metadata": {},
   "outputs": [],
   "source": [
    "if have_data:\n",
    "    display(md('## Raw IngredientName variations encountered for this chemical'))\n",
    "\n",
    "    out = df.groupby('IngredientName',as_index=False)['bgCAS'].count().reset_index(drop=True)\n",
    "    gb1 = df.groupby('IngredientName')['bgOperatorName'].apply(set).reset_index()\n",
    "    gb1.columns = ['IngredientName','Operators']\n",
    "    gb1.Operators = gb1.Operators.map(lambda x: xlate_to_str(x,maxlen=10))\n",
    "    out = pd.merge(out,gb1,on='IngredientName',how='left')\n",
    "    gb2 = df.groupby('IngredientName')['primarySupplier'].apply(set).reset_index()\n",
    "    gb2.columns = ['IngredientName','primarySupplier']\n",
    "    gb2.primarySupplier = gb2.primarySupplier.map(lambda x: xlate_to_str(x,maxlen=10))\n",
    "    out = pd.merge(out,gb2,on='IngredientName',how='left').reset_index(drop=True)\n",
    "\n",
    "    out.columns = ['IngredientName','Number of records','Operators','primarySuppliers']\n",
    "    iShow(out,maxBytes=0)"
   ]
  },
  {
   "cell_type": "code",
   "execution_count": null,
   "metadata": {},
   "outputs": [],
   "source": [
    "if have_data:\n",
    "    display(md('## Raw TradeName variations encountered for this chemical\\n Names truncated to 30 characters before processing'))\n",
    "\n",
    "    df.TradeName = np.where(df.TradeName.isna(),'MISSING',df.TradeName)\n",
    "\n",
    "    out = df.groupby('TradeName_trunc',as_index=False)['bgCAS'].count().reset_index(drop=True)\n",
    "    gb1 = df.groupby('TradeName_trunc')['bgOperatorName'].apply(set).reset_index()\n",
    "    gb1.columns = ['TradeName_trunc','Operators']\n",
    "    gb1.Operators = gb1.Operators.map(lambda x: xlate_to_str(x,maxlen=10))\n",
    "    out = pd.merge(out,gb1,on='TradeName_trunc',how='left')\n",
    "    gb2 = df.groupby('TradeName_trunc')['primarySupplier'].apply(set).reset_index()\n",
    "    gb2.columns = ['TradeName_trunc','primarySupplier']\n",
    "    gb2.primarySupplier = gb2.primarySupplier.map(lambda x: xlate_to_str(x,maxlen=10))\n",
    "    out = pd.merge(out,gb2,on='TradeName_trunc',how='left').reset_index(drop=True)\n",
    "    gb3 = df.groupby('TradeName_trunc')['bgSupplier'].apply(set).reset_index()\n",
    "    gb3.columns = ['TradeName_trunc','bgSupplier']\n",
    "    gb3.bgSupplier = gb3.bgSupplier.map(lambda x: xlate_to_str(x,maxlen=10))\n",
    "    out = pd.merge(out,gb3,on='TradeName_trunc',how='left').reset_index(drop=True)\n",
    "\n",
    "    out.columns = ['TradeName_trunc','Number of records','Operators','primarySuppliers','bgSupplier']\n",
    "    iShow(out,maxBytes=0)"
   ]
  },
  {
   "cell_type": "code",
   "execution_count": null,
   "metadata": {},
   "outputs": [],
   "source": [
    "if have_data:\n",
    "    display(md('## Raw Purpose variations encountered for this chemical\\n Values truncated to 30 characters before processing'))\n",
    "    df.Purpose = np.where(df.Purpose.isna(),'MISSING',df.Purpose)\n",
    "    df['Purp_trunc'] = np.where(df.Purpose.str.len()>30,\n",
    "                                df.Purpose.str[:30]+'...',\n",
    "                                df.Purpose)\n",
    "    out = df.groupby('Purp_trunc',as_index=False)['bgCAS'].count().reset_index(drop=True)\n",
    "    gb1 = df.groupby('Purp_trunc')['bgOperatorName'].apply(set).reset_index()\n",
    "    gb1.columns = ['Purp_trunc','Operators']\n",
    "    gb1.Operators = gb1.Operators.map(lambda x: xlate_to_str(x,maxlen=10))\n",
    "    out = pd.merge(out,gb1,on='Purp_trunc',how='left')\n",
    "    gb2 = df.groupby('Purp_trunc')['primarySupplier'].apply(set).reset_index()\n",
    "    gb2.columns = ['Purp_trunc','primarySupplier']\n",
    "    gb2.primarySupplier = gb2.primarySupplier.map(lambda x: xlate_to_str(x,maxlen=10))\n",
    "    out = pd.merge(out,gb2,on='Purp_trunc',how='left').reset_index(drop=True)\n",
    "    gb3 = df.groupby('Purp_trunc')['bgSupplier'].apply(set).reset_index()\n",
    "    gb3.columns = ['Purp_trunc','bgSupplier']\n",
    "    gb3.bgSupplier = gb3.bgSupplier.map(lambda x: xlate_to_str(x,maxlen=10))\n",
    "    out = pd.merge(out,gb3,on='Purp_trunc',how='left').reset_index(drop=True)\n",
    "\n",
    "    out.columns = ['Purp_trunc','Number of records','Operators','primarySuppliers','bgSupplier']\n",
    "    iShow(out,maxBytes=0)"
   ]
  },
  {
   "cell_type": "markdown",
   "metadata": {},
   "source": [
    "<a id='massCompanies'></a>"
   ]
  },
  {
   "cell_type": "code",
   "execution_count": null,
   "metadata": {},
   "outputs": [],
   "source": [
    "if have_data:\n",
    "    if massPres < pres:\n",
    "        display(md('---\\n ---\\n## Operators not reporting enough data for mass calculations for this chemical'))\n",
    "        display(md('Shown are operators and how many records without mass, as well as the types of information missing or in error for each company. In addition, not all disclosures are curated by Open-FF yet.'))\n",
    "        tmp = df[~(df.calcMass>0)].groupby('bgOperatorName',as_index=False)['UploadKey'].count()\n",
    "        df['not_curated'] = df.carrier_status=='unknown'\n",
    "        df['noPerc'] = ~(df.PercentHFJob>0)\n",
    "        df['noTBWV'] = ~df.has_TBWV\n",
    "        df['noWaterCarrier'] = ~df.has_water_carrier\n",
    "        df['outOfTolerance'] = ~df.within_total_tolerance\n",
    "        gb = df[~(df.calcMass>0)].groupby('bgOperatorName',as_index=False)[['not_curated',\n",
    "                                                                            'noTBWV','noWaterCarrier',\n",
    "                                                                            'outOfTolerance','noPerc']].sum()\n",
    "        tmp = pd.merge(tmp,gb,on='bgOperatorName',how='left').reset_index(drop=True)\n",
    "        tmp.not_curated = ((tmp.not_curated/tmp.UploadKey)*100).round(0)\n",
    "        tmp.noTBWV = ((tmp.noTBWV/tmp.UploadKey)*100).round(0)\n",
    "        tmp.noWaterCarrier = ((tmp.noWaterCarrier/tmp.UploadKey)*100).round(0)\n",
    "        tmp.outOfTolerance = ((tmp.outOfTolerance/tmp.UploadKey)*100).round(0)\n",
    "        tmp.noPerc = ((tmp.noPerc/tmp.UploadKey)*100).round(0)\n",
    "        tmp.columns = ['Operator','records without mass','% carrier not curated','% without TBWV','% no water carrier record',\n",
    "                       '% total percent out of tolerance','% no PercentHFJob']\n",
    "        iShow(tmp,maxBytes=0)    "
   ]
  },
  {
   "cell_type": "code",
   "execution_count": null,
   "metadata": {},
   "outputs": [],
   "source": [
    "# from IPython.core.display import HTML\n",
    "# def css_styling():\n",
    "#     styles = open(\"./styles/custom.css\", \"r\").read()\n",
    "#     return HTML(styles)\n",
    "# css_styling()"
   ]
  },
  {
   "cell_type": "code",
   "execution_count": null,
   "metadata": {},
   "outputs": [],
   "source": []
  },
  {
   "cell_type": "code",
   "execution_count": null,
   "metadata": {},
   "outputs": [],
   "source": []
  }
 ],
 "metadata": {
  "hide_input": true,
  "kernelspec": {
   "display_name": "Python 3 (ipykernel)",
   "language": "python",
   "name": "python3"
  },
  "language_info": {
   "codemirror_mode": {
    "name": "ipython",
    "version": 3
   },
   "file_extension": ".py",
   "mimetype": "text/x-python",
   "name": "python",
   "nbconvert_exporter": "python",
   "pygments_lexer": "ipython3",
   "version": "3.9.7"
  }
 },
 "nbformat": 4,
 "nbformat_minor": 4
}
