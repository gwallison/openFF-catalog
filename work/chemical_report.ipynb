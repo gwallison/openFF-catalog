{
 "cells": [
  {
   "cell_type": "code",
   "execution_count": null,
   "metadata": {},
   "outputs": [],
   "source": [
    "%run \"../catalog_common.py\""
   ]
  },
  {
   "cell_type": "code",
   "execution_count": null,
   "metadata": {},
   "outputs": [],
   "source": [
    "#preamble to analysis\n",
    "import pandas as pd\n",
    "import numpy as np\n",
    "import matplotlib.pyplot as plt\n",
    "%matplotlib inline\n",
    "import seaborn as sns\n",
    "import matplotlib.ticker\n",
    "from IPython.display import Markdown as md\n",
    "from IPython.display import HTML, display\n",
    "from time import sleep\n",
    "\n",
    "from itables import init_notebook_mode\n",
    "init_notebook_mode(all_interactive=True)\n",
    "from itables import show as iShow\n",
    "import itables.options as opt"
   ]
  },
  {
   "cell_type": "code",
   "execution_count": null,
   "metadata": {},
   "outputs": [],
   "source": [
    "min_num_for_big = 29"
   ]
  },
  {
   "cell_type": "markdown",
   "metadata": {},
   "source": [
    "This is a script-generated report about a specific chemical used in the Hydraulic Fracking industry. The data are supplied by the industry-sponsored website [FracFocus](https://fracfocus.org/), but analyzed by the independent project [Open-FF](https://frackingchemicaldisclosure.wordpress.com/).\n",
    "Structure images courtesy of [ChemID](https://chem.nlm.nih.gov/chemidplus/)."
   ]
  },
  {
   "cell_type": "code",
   "execution_count": null,
   "metadata": {},
   "outputs": [],
   "source": [
    "alldf = pd.read_csv('data.csv',low_memory=False)\n",
    "df = alldf[alldf.in_std_filtered].copy()\n",
    "have_data = len(df)>0\n",
    "have_mass = df.calcMass.max()>0"
   ]
  },
  {
   "cell_type": "code",
   "execution_count": null,
   "metadata": {},
   "outputs": [],
   "source": [
    "# get some global values\n",
    "ref_df = pd.read_csv('ref.csv')\n",
    "ref_df.set_index('varname',inplace=True)\n"
   ]
  },
  {
   "cell_type": "code",
   "execution_count": null,
   "metadata": {},
   "outputs": [],
   "source": [
    "# md(f'This report (created on {ref_df.at[\"today\",\"value\"].split()[0]}) was generated from FracFocus bulk data downloaded on {ref_df.at[\"data_date\",\"value\"]}.')"
   ]
  },
  {
   "cell_type": "code",
   "execution_count": null,
   "metadata": {},
   "outputs": [],
   "source": [
    "# get epa and other names\n",
    "names = pd.read_csv('bgCAS.csv')\n",
    "names = names.fillna('_empty_')"
   ]
  },
  {
   "cell_type": "code",
   "execution_count": null,
   "metadata": {},
   "outputs": [],
   "source": [
    "cas = ref_df.at['target_cas','value'].strip()\n",
    "epa_sub = names[names.bgCAS==cas]['epa_Substance_Name'].values[0]\n",
    "cas_orig = names[names.bgCAS==cas]['bgIngredientName'].values[0]\n",
    "#eh_name = names[names.bgCAS==cas]['eh_IngredientName'].values[0]\n",
    "epa_reg = names[names.bgCAS==cas]['epa_Registry_Name'].values[0]\n",
    "try:\n",
    "    comm_name = df.IngredientName.value_counts().index[0]\n",
    "except:\n",
    "    comm_name = ''\n",
    "\n",
    "#print(f'{epa_sub}\\n{epa_reg}\\n{cas_orig}\\n{eh_name}')\n",
    "\n",
    "subname = epa_sub\n",
    "subtitle = 'Substance name (EPA list)'\n",
    "if epa_sub=='_empty_':\n",
    "    subname = cas_orig\n",
    "    subtitle = 'Substance name (SciFinder)'\n",
    "if epa_reg != '_empty_':\n",
    "    regname = epa_reg\n",
    "    regtitle = 'Registry name (EPA list)'\n",
    "else:\n",
    "    regname = ''; regtitle = ''\n",
    "# if eh_name !='_empty_':\n",
    "#     ehname = eh_name\n",
    "#     ehtitle = 'Name used in Elsner/Hoelzer'\n",
    "# else:\n",
    "#     ehname = ''; ehtitle = ''\n",
    "if comm_name:\n",
    "    commname = comm_name\n",
    "    commtitle = 'Most freqently used name \\nin FF IngredientName'\n",
    "else:\n",
    "    commname = ''; commtitle = ''"
   ]
  },
  {
   "cell_type": "code",
   "execution_count": null,
   "metadata": {},
   "outputs": [],
   "source": [
    "chemid = f'<p style=\"text-align: center; font-size:400%\">{cas}</p>'\n",
    "if cas in ['conflictingID','proprietary','ambiguousID','sysAppMeta']:\n",
    "    chemid = f'<p style=\"text-align: center; font-size:200%\">{cas}</p>'\n",
    "\n",
    "regcode = f\"\"\"       <tr>\n",
    "                        <td><p style=\"text-align: center; font-size:100%\">{regtitle}</p></td>\n",
    "                    </tr>\n",
    "                    <tr>\n",
    "                        <td><p style=\"text-align: center; font-size:200%\">{regname}</p>'</td>\n",
    "                    </tr>\"\"\"\n",
    "if regname == '':\n",
    "    regcode = ''\n",
    "commcode = f\"\"\"       <tr>\n",
    "                        <td><p style=\"text-align: center; font-size:100%\">{commtitle}</p></td>\n",
    "                    </tr>\n",
    "                    <tr>\n",
    "                        <td><p style=\"text-align: center; font-size:200%\">{commname}</p>'</td>\n",
    "                    </tr>\"\"\"\n",
    "if commname == '':\n",
    "    commcode = ''\n",
    "# ehcode = f\"\"\"       <tr>\n",
    "#                         <td><p style=\"text-align: center; font-size:100%\">{ehtitle}</p></td>\n",
    "#                     </tr>\n",
    "#                     <tr>\n",
    "#                         <td><p style=\"text-align: center; font-size:200%\">{ehname}</p>'</td>\n",
    "#                     </tr>\"\"\"\n",
    "# if ehname == '':\n",
    "#     ehcode = ''\n",
    "\n",
    "display(HTML(f\"\"\"<style>\n",
    "                </style>\n",
    "                <table style='margin: 0 auto' >\n",
    "                <tr>\n",
    "                <td width=25%>\n",
    "                    <table >\n",
    "                    <tr>\n",
    "                        <td><p style=\"text-align: center; font-size:100%\">CAS Registration Number</p></td>\n",
    "                    </tr>\n",
    "                    <tr>\n",
    "                        <td>{chemid}</td>\n",
    "                    </tr>\n",
    "                    <tr>\n",
    "                        <td  align=\"left\">\n",
    "                            <img src=\"https://chem.nlm.nih.gov/chemidplus/structure/{cas}\" alt=\"no image available from ChemID\" />\n",
    "                        </td>\n",
    "                    </tr>\n",
    "                    </table>\n",
    "                <td width=75%>\n",
    "                    <table >\n",
    "                    <tr>\n",
    "                        <td><p style=\"text-align: center; font-size:100%\">{subtitle}</p></td>\n",
    "                    </tr>\n",
    "                    <tr>\n",
    "                        <td><p style=\"text-align: center; font-size:200%\">{subname}</p>'</td>\n",
    "                    </tr>\n",
    "                    {regcode}\n",
    "                    {commcode}\n",
    "                    </table>\n",
    "                    \n",
    "            </table>\"\"\"))"
   ]
  },
  {
   "cell_type": "code",
   "execution_count": null,
   "metadata": {},
   "outputs": [],
   "source": [
    "if not have_data:\n",
    "    display(md('## THERE ARE NO RECORDS IN THE FILTERED DATA FOR THIS CHEMICAL\\n\\nLimited analysis is possible\\n\\n'))\n",
    "#     display(md('###aborting this notebook...\\n\\n'))\n",
    "else:\n",
    "    if not have_mass:\n",
    "        display(md('## There are no records for this chemical for which mass is calculable.'))\n",
    "        display(md('### Much of the analysis in this report will be left blank'))\n",
    "    \n",
    "# if cas=='cas_unresolved':\n",
    "#     display(md('## The \"cas_unresolved\" set is a mixed bag and a mess'))\n",
    "#     display(md('### aborting this notebook...\\n'))\n",
    "#     have_data=False\n",
    "#     have_mass=False"
   ]
  },
  {
   "cell_type": "code",
   "execution_count": null,
   "metadata": {},
   "outputs": [],
   "source": [
    "if have_data:\n",
    "    df.date = pd.to_datetime(df.date)\n",
    "    df['year'] = df.date.dt.year\n",
    "    df = df[df.year>2010]  # FF includes some old data but before 2011 are very sparse\n",
    "    display(md('All disclosures before 2011 have been removed because they are sparse and not representative.'))"
   ]
  },
  {
   "cell_type": "markdown",
   "metadata": {},
   "source": [
    "### Table of Contents\n",
    "- Info about the material\n",
    "- [General abundance](#frequency) within FracFocus\n",
    "- [Large uses](#large_uses) (top 10% by mass for chemicals with at least 30 records)\n",
    "  - changes over time\n",
    "  - by state\n",
    "  - by operator\n",
    "  - by primarySupplier\n",
    "- [Detailed abundance for all records](#detailAbundance)\n",
    "  - Uses by percentage of the fracking fluid\n",
    "  - Uses by mass\n",
    "- [Companies](#companies) supplying and using this chemical\n",
    "- [Patterns of use](#patterns)\n",
    "- [Disclosures list of biggest 100 uses](#biggest100) with map links\n",
    "- [Tables of raw](#raw) Names, CAS Numbers and Trade names associated with this chemical"
   ]
  },
  {
   "cell_type": "markdown",
   "metadata": {},
   "source": [
    "<a id='frequency'></a>\n",
    "# General abundance"
   ]
  },
  {
   "cell_type": "code",
   "execution_count": null,
   "metadata": {},
   "outputs": [],
   "source": [
    "total_Upload = int(ref_df.at['tot_num_disc_less_FFV1','value'])\n",
    "fil_Upload = int(ref_df.at['tot_num_disc_fil','value'])"
   ]
  },
  {
   "cell_type": "code",
   "execution_count": null,
   "metadata": {},
   "outputs": [],
   "source": [
    "pres = len(df.UploadKey.unique())\n",
    "massPres = len(df[df.calcMass>0].UploadKey.unique())\n",
    "totpres = len(alldf.UploadKey.unique())\n",
    "#     display(md(f'### Number of disclosures reporting {cas}:'))\n"
   ]
  },
  {
   "cell_type": "code",
   "execution_count": null,
   "metadata": {},
   "outputs": [],
   "source": [
    "if (have_data):\n",
    "    if (pres/total_Upload)>0.01: # don't show pie chart if presence is very small\n",
    "        x = [pres,fil_Upload-pres]\n",
    "        labels = [f'{cas} present','not reported']\n",
    "        plt.figure(figsize=(5, 5))\n",
    "        plt.pie(x,explode=[0.15,0])\n",
    "        plt.legend(labels=labels)\n",
    "        title = f'Percent of all FracFocus disclosures that report the use of {cas}:'\n",
    "        title += f'\\n {round_sig(pres/fil_Upload*100,3)}% '\n",
    "        plt.title(title,fontsize=16);\n",
    "        plt.show()\n",
    "    display(md(f\"\"\"||Unfiltered data set|Filtered data set|with calculated mass|\n",
    "|---|---|---|---|\n",
    "|Num disclosures|{totpres:,}|{pres:,}|{massPres:,}*|\n",
    "|% of disclosures|{round_sig(totpres/total_Upload*100,3)}%|{round_sig(pres/fil_Upload*100,3)}%|{round_sig(massPres/fil_Upload*100,3)}%|\"\"\"))\n",
    "    if massPres<pres:\n",
    "        display(md(f'> *See [below](#massCompanies) for list of companies not reporting enough info for mass calculations'))"
   ]
  },
  {
   "cell_type": "markdown",
   "metadata": {},
   "source": [
    "<a id='large_uses'></a>"
   ]
  },
  {
   "cell_type": "code",
   "execution_count": null,
   "metadata": {},
   "outputs": [],
   "source": [
    "\n",
    "if have_mass:\n",
    "    if len(df[df.calcMass>0])>min_num_for_big:\n",
    "        display(md('## What are the big uses?'))\n",
    "        perc90_mass = np.percentile(df[df.calcMass>0].calcMass,90)\n",
    "        perc90_str = str(round_sig(perc90_mass,1))\n",
    "        display(md(f'### Upper 10% of records are over {perc90_str} pounds'))\n",
    "    else:\n",
    "        display(md('## Not enough mass data records for analysis of big uses'))"
   ]
  },
  {
   "cell_type": "code",
   "execution_count": null,
   "metadata": {},
   "outputs": [],
   "source": [
    "if have_mass:\n",
    "    if len(df[df.calcMass>0])>min_num_for_big:\n",
    "        display(md('#### ...by State'))\n",
    "        df90 = df[df.calcMass>=perc90_mass].copy()\n",
    "        \n",
    "        st90 = df90.groupby('bgStateName')['bgCAS'].count()\n",
    "        st90.columns = ['bgStateName','number of records']\n",
    "        gb1 = df90.groupby('bgStateName')['bgCountyName'].apply(set).reset_index()\n",
    "        gb1.bgCountyName = gb1.bgCountyName.map(lambda x: xlate_to_str(x,maxlen=20))\n",
    "        st90 = pd.merge(st90,gb1,on='bgStateName',how='left')\n",
    "        gb2 = df90.groupby('bgStateName')['year'].apply(set).reset_index()\n",
    "        gb2.year = gb2.year.map(lambda x: xlate_to_str(x,maxlen=20))\n",
    "        st90 = pd.merge(st90,gb2,on='bgStateName',how='left')\n",
    "        st90 = st90.reset_index(drop=True)\n",
    "        st90.columns = ['State Name','number of records in top 10% by mass','Counties','Years']\n",
    "        iShow(st90)\n"
   ]
  },
  {
   "cell_type": "code",
   "execution_count": null,
   "metadata": {},
   "outputs": [],
   "source": [
    "if have_mass:\n",
    "    if len(df[df.calcMass>0])>min_num_for_big:\n",
    "        display(md('#### ...by Operator'))\n",
    "        op90 = df90.groupby('bgOperatorName')['bgCAS'].count()\n",
    "\n",
    "        gb2 = df90.groupby('bgOperatorName')['year'].apply(set).reset_index()\n",
    "        gb2.year = gb2.year.map(lambda x: xlate_to_str(x,maxlen=20))\n",
    "        op90 = pd.merge(op90,gb2,on='bgOperatorName',how='left')\n",
    "\n",
    "        op90 = op90.reset_index(drop=True)\n",
    "        op90.columns = ['Operator Name','number of records in top 10% by mass','Years']\n",
    "        iShow(op90)\n"
   ]
  },
  {
   "cell_type": "code",
   "execution_count": null,
   "metadata": {},
   "outputs": [],
   "source": [
    "if have_mass:\n",
    "    if len(df[df.calcMass>0])>min_num_for_big:\n",
    "        display(md('#### ...by primarySupplier'))\n",
    "        display(md('The primarySupplier is an indicator of the most frequent supplier for a disclosure and is not necessarily related to a given chemical record.'))\n",
    "        ps90 = df90.groupby('primarySupplier')['bgCAS'].count()\n",
    "        gb2 = df90.groupby('primarySupplier')['year'].apply(set).reset_index()\n",
    "        gb2.year = gb2.year.map(lambda x: xlate_to_str(x,maxlen=20))\n",
    "        ps90 = pd.merge(ps90,gb2,on='primarySupplier',how='left')\n",
    "\n",
    "        ps90 = ps90.reset_index(drop=True)\n",
    "        ps90.columns = ['primarySupplier','number of records in top 10% by mass','Years']\n",
    "        iShow(ps90)\n"
   ]
  },
  {
   "cell_type": "code",
   "execution_count": null,
   "metadata": {},
   "outputs": [],
   "source": [
    "if have_mass:\n",
    "    if len(df[df.calcMass>0])>min_num_for_big:\n",
    "        display(md('### How do large uses change over time?'))\n",
    "        display(md('-- showing only top 10% by mass'))\n",
    "\n",
    "        ax = df[df.calcMass>perc90_mass].plot('date','calcMass',#title=f'Events with >{perc90_str} lbs. {cas}',\n",
    "                                            style='o',alpha=.5,\n",
    "                                            figsize=(10,6))\n",
    "        ax.set(yscale='log')\n",
    "        ax.tick_params(axis=\"y\", labelsize=14)\n",
    "        ax.tick_params(axis=\"x\", labelsize=14)\n",
    "        #locmaj = matplotlib.ticker.LogLocator(base=10,numticks=7,subs='all') \n",
    "        locmaj = matplotlib.ticker.LogLocator(base=10,subs='all') \n",
    "        ax.yaxis.set_major_locator(locmaj)\n",
    "        ax.grid()        #ax.set(ylim=(10000,1000000));\n",
    "        plt.ylabel(f'mass of {cas} (lbs.)',fontsize=14);\n",
    "        plt.xlabel('date',fontsize=14);\n",
    "        plt.title(f'Events with >{perc90_str} lbs. {cas}',fontsize=16);\n"
   ]
  },
  {
   "cell_type": "markdown",
   "metadata": {},
   "source": [
    "<a id='detailedAbundance'></a>\n",
    "# Detailed abundance\n"
   ]
  },
  {
   "cell_type": "code",
   "execution_count": null,
   "metadata": {},
   "outputs": [],
   "source": [
    "# alldf['year'] = pd.to_datetime(alldf.date).dt.year\n",
    "# gb = alldf.groupby('year',as_index=False)['bgCAS'].count()\n",
    "# iShow(gb)"
   ]
  },
  {
   "cell_type": "markdown",
   "metadata": {},
   "source": [
    "Using all **filtered** data for this chemical\n",
    "\n",
    "### Uses by percent of the fracking job\n",
    "This measure roughly shows a comparison of the concentration of the chemical in the whole fracking job (including the base fluid which is typically over 80%).  Only the disclosures where the sum of PercentHFJob is within 5% of 100% are plotted. "
   ]
  },
  {
   "cell_type": "code",
   "execution_count": null,
   "metadata": {},
   "outputs": [],
   "source": [
    "if have_mass:\n",
    "    ax = df[df.calcMass>0].plot('date','PercentHFJob', style='o', alpha=.3,\n",
    "                figsize=(10,6))\n",
    "    plt.ylabel('Percent of Job',fontsize=16);\n",
    "    plt.title(f'Percent of job that is {cas} - linear version',fontsize=16);\n",
    "    ax.grid()\n",
    "    ax.tick_params(axis=\"y\", labelsize=14)\n",
    "    ax.tick_params(axis=\"x\", labelsize=14)\n"
   ]
  },
  {
   "cell_type": "code",
   "execution_count": null,
   "metadata": {},
   "outputs": [],
   "source": [
    "if have_mass:\n",
    "    ax = df[df.calcMass>0].plot('date','PercentHFJob', style='o', alpha=.3,\n",
    "                figsize=(10,6))\n",
    "    plt.ylabel('Percent of Job',fontsize=16);\n",
    "    plt.title(f'Percent of Job that is {cas} - log version',fontsize=16);\n",
    "    ax.set(yscale='log')\n",
    "    ax.tick_params(axis=\"y\", labelsize=14)\n",
    "    ax.tick_params(axis=\"x\", labelsize=14)\n",
    "    #locmaj = matplotlib.ticker.LogLocator(base=10,numticks=7,subs='all') \n",
    "    locmaj = matplotlib.ticker.LogLocator(base=10,subs='all') \n",
    "    ax.yaxis.set_major_locator(locmaj)\n",
    "    ax.set(ylim=(max(0.000001,df.PercentHFJob.min()),\n",
    "                 df.PercentHFJob.max()*1.1));\n",
    "    ax.grid()\n"
   ]
  },
  {
   "cell_type": "markdown",
   "metadata": {},
   "source": [
    "<a id='by_mass'></a>\n",
    "### Uses by mass\n",
    "This measure shows a comparison of the absolute quantity of a chemical used in a fracking job."
   ]
  },
  {
   "cell_type": "code",
   "execution_count": null,
   "metadata": {},
   "outputs": [],
   "source": [
    "if have_mass:\n",
    "    ax = df[df.calcMass>0].plot('date','calcMass', style='o', alpha=.3,\n",
    "                figsize=(10,6))\n",
    "    plt.ylabel('Mass in pounds',fontsize=16);\n",
    "    plt.title(f'Mass of {cas} - linear version',fontsize=16);\n",
    "    ax.grid()\n",
    "    ax.tick_params(axis=\"y\", labelsize=14)\n",
    "    ax.tick_params(axis=\"x\", labelsize=14)\n"
   ]
  },
  {
   "cell_type": "code",
   "execution_count": null,
   "metadata": {},
   "outputs": [],
   "source": [
    "if have_mass:\n",
    "    ax = df[df.calcMass>0].plot('date','calcMass', style='o', alpha=.3,\n",
    "                figsize=(10,6))\n",
    "    plt.ylabel('Mass in pounds',fontsize=16);\n",
    "    plt.title(f'Mass of {cas} - log version',fontsize=16);\n",
    "    ax.set(yscale='log')\n",
    "    ax.tick_params(axis=\"y\", labelsize=14)\n",
    "    ax.tick_params(axis=\"x\", labelsize=14)\n",
    "    #locmaj = matplotlib.ticker.LogLocator(base=10,numticks=7,subs='all') \n",
    "    locmaj = matplotlib.ticker.LogLocator(base=10,subs='all') \n",
    "    ax.yaxis.set_major_locator(locmaj)\n",
    "    ax.set(ylim=(max(0.01,df.calcMass.min()),df.calcMass.max()*1.2));\n",
    "    ax.grid()\n"
   ]
  },
  {
   "cell_type": "markdown",
   "metadata": {},
   "source": [
    "<a id='companies'></a>\n",
    "# Companies\n",
    "\n",
    "## Which operators are the most frequent users\n",
    "The field reported below is bgOperatorName."
   ]
  },
  {
   "cell_type": "code",
   "execution_count": null,
   "metadata": {},
   "outputs": [],
   "source": [
    "\n",
    "if have_data:\n",
    "    ngroups = len(df.bgOperatorName.unique())\n",
    "    if ngroups < 6: fsiz = (8,3)\n",
    "    else: fsiz = (8,8)\n",
    "    ax = df.groupby('bgOperatorName')['UploadKey'].count()\\\n",
    "         .sort_values(ascending=False)[:20].plot.barh(figsize=fsiz)\n",
    "    ax.tick_params(axis=\"y\", labelsize=14)\n",
    "    ax.tick_params(axis=\"x\", labelsize=14)\n",
    "    plt.xlabel('Number of records',fontsize=16);\n",
    "    plt.title(f'Number of chemical records using {cas} by operator',fontsize=16);"
   ]
  },
  {
   "cell_type": "markdown",
   "metadata": {},
   "source": [
    "## Which suppliers are most frequently named for this chemical?\n",
    "The field reported below is bgSupplier."
   ]
  },
  {
   "cell_type": "code",
   "execution_count": null,
   "metadata": {},
   "outputs": [],
   "source": [
    "if have_data:\n",
    "    ngroups = len(df.bgSupplier.unique())\n",
    "    if ngroups < 6: fsiz = (8,3)\n",
    "    else: fsiz = (8,8)\n",
    "    ax = df.groupby('bgSupplier')['UploadKey'].count()\\\n",
    "         .sort_values(ascending=False)[:20].plot.barh(figsize=fsiz)\n",
    "    ax.tick_params(axis=\"y\", labelsize=14)\n",
    "    ax.tick_params(axis=\"x\", labelsize=14)\n",
    "    plt.xlabel('Number of records',fontsize=16);\n",
    "    plt.title(f'Number of chemical records using {cas} by Supplier',fontsize=16);\n"
   ]
  },
  {
   "cell_type": "markdown",
   "metadata": {},
   "source": [
    "## Which primarySuppliers are most frequently associated with this chemical?\n",
    "The primarySupplier is a disclosure-level value and is not necessarily related to a given chemical record. Nevertheless, it indicates the supplier with the most records in a fracking job."
   ]
  },
  {
   "cell_type": "code",
   "execution_count": null,
   "metadata": {},
   "outputs": [],
   "source": [
    "if have_data:\n",
    "    ngroups = len(df.primarySupplier.unique())\n",
    "    if ngroups < 6: fsiz = (8,3)\n",
    "    else: fsiz = (8,8)\n",
    "    ax = df.groupby('primarySupplier')['UploadKey'].count()\\\n",
    "         .sort_values(ascending=False)[:20].plot.barh(figsize=fsiz);\n",
    "    ax.tick_params(axis=\"y\", labelsize=14)\n",
    "    ax.tick_params(axis=\"x\", labelsize=14)\n",
    "    plt.xlabel('Number of records',fontsize=16);\n",
    "    plt.title(f'Number of chemical records using {cas} associated with primarySupplier',fontsize=16);\n"
   ]
  },
  {
   "cell_type": "markdown",
   "metadata": {},
   "source": [
    "## Total mass reported by operator - biggest users\n",
    "The field reported below is bgOperator."
   ]
  },
  {
   "cell_type": "code",
   "execution_count": null,
   "metadata": {},
   "outputs": [],
   "source": [
    "\n",
    "if have_mass:\n",
    "    ngroups = len(df[df.calcMass>0].bgOperatorName.unique())\n",
    "    if ngroups < 6: fsiz = (8,3)\n",
    "    else: fsiz = (8,8)\n",
    "    ax =df[df.calcMass>0].groupby('bgOperatorName')['calcMass'].sum()\\\n",
    "         .sort_values(ascending=False)[:20].plot.barh(figsize=fsiz);\n",
    "    ax.tick_params(axis=\"y\", labelsize=14)\n",
    "    ax.tick_params(axis=\"x\", labelsize=14,rotation=75)\n",
    "    plt.xlabel('Mass (pounds)',fontsize=16);\n",
    "\n",
    "    plt.title(f'Total mass of {cas} used by operator',fontsize=16);"
   ]
  },
  {
   "cell_type": "markdown",
   "metadata": {},
   "source": [
    "## Total mass reported by primarySupplier - biggest associations"
   ]
  },
  {
   "cell_type": "code",
   "execution_count": null,
   "metadata": {},
   "outputs": [],
   "source": [
    "if have_mass:\n",
    "    ngroups = len(df[df.calcMass>0].primarySupplier.unique())\n",
    "    if ngroups < 6: fsiz = (8,3)\n",
    "    else: fsiz = (8,8)\n",
    "    ax =df.groupby('primarySupplier')['calcMass'].sum()\\\n",
    "         .sort_values(ascending=False)[:20].plot.barh(figsize=fsiz);\n",
    "    ax.tick_params(axis=\"y\", labelsize=14)\n",
    "    ax.tick_params(axis=\"x\", labelsize=14,rotation=75)\n",
    "    plt.xlabel('Mass (pounds)',fontsize=16);\n",
    "    plt.title(f'Total mass of {cas} associated with primarySupplier',fontsize=16);"
   ]
  },
  {
   "cell_type": "markdown",
   "metadata": {},
   "source": [
    "<a id='patterns'></a>"
   ]
  },
  {
   "cell_type": "code",
   "execution_count": null,
   "metadata": {},
   "outputs": [],
   "source": [
    "if have_mass:\n",
    "    display(md('## Patterns of use'))\n",
    "    display(md('### Across some of the larger operators'))\n",
    "\n",
    "\n",
    "    sns.set(style=\"whitegrid\")\n",
    "    ops =df.groupby('bgOperatorName',as_index=False)['calcMass'].sum().sort_values(by='calcMass',\n",
    "                                                                                 ascending=False)[:6].bgOperatorName.tolist()\n",
    "    #print(ops)\n",
    "    t = df[df.bgOperatorName.isin(ops)]\n",
    "    #print(len(t))\n",
    "    #t = t[t.record_flags.str.contains('M')]\n",
    "    fig = plt.figure(figsize=(10,6))\n",
    "    ax = sns.stripplot(x=t.calcMass,y=t.bgOperatorName,jitter=.2,alpha=.7)\n",
    "    plt.xlabel(f'mass in pounds: {cas}',fontsize=14);\n",
    "    plt.title(f'Variability in use of {cas} across some operators',fontsize=16)\n",
    "    ax.set(xscale='log')\n",
    "    ax.set(xlim=(max(0.1,t.calcMass.min()),t.calcMass.max()*1.1))\n",
    "    ax.tick_params(axis=\"x\", labelsize=14)\n",
    "    ax.tick_params(axis=\"y\", labelsize=14)\n",
    "    locmaj = matplotlib.ticker.LogLocator(base=10,subs='all') \n",
    "    ax.xaxis.set_major_locator(locmaj)\n"
   ]
  },
  {
   "cell_type": "code",
   "execution_count": null,
   "metadata": {},
   "outputs": [],
   "source": [
    "if have_mass:\n",
    "    display(md('### Across some of the primarySuppliers'))\n",
    "\n",
    "    sns.set(style=\"whitegrid\")\n",
    "    ops =df.groupby('primarySupplier',as_index=False)['calcMass'].sum().sort_values(by='calcMass',\n",
    "                                                                                 ascending=False)[:6].primarySupplier.tolist()\n",
    "    #print(ops)\n",
    "    t = df[df.primarySupplier.isin(ops)]\n",
    "    #print(len(t))\n",
    "    #t = t[t.record_flags.str.contains('M')]\n",
    "    fig = plt.figure(figsize=(10,6))\n",
    "    ax = sns.stripplot(x=t.calcMass,y=t.primarySupplier,jitter=.2,alpha=.7)\n",
    "    plt.xlabel(f'mass in pounds: {cas}',fontsize=14);\n",
    "    plt.title(f'Variability in use of {cas} across some primarySuppliers',fontsize=16)\n",
    "    ax.set(xscale='log')\n",
    "    ax.set(xlim=(max(0.1,t.calcMass.min()),t.calcMass.max()*1.1))\n",
    "    ax.tick_params(axis=\"x\", labelsize=14)\n",
    "    ax.tick_params(axis=\"y\", labelsize=14)\n",
    "    locmaj = matplotlib.ticker.LogLocator(base=10,subs='all') \n",
    "    ax.xaxis.set_major_locator(locmaj)\n"
   ]
  },
  {
   "cell_type": "markdown",
   "metadata": {},
   "source": [
    "<a id='biggest100'></a>"
   ]
  },
  {
   "cell_type": "code",
   "execution_count": null,
   "metadata": {},
   "outputs": [],
   "source": [
    "if have_mass:\n",
    "    if massPres < 100:\n",
    "        display(md('### All disclosures with mass'))\n",
    "    else:\n",
    "        display(md('### Disclosures with the 100 largest uses'))\n",
    "    display(md('**calcMass** is in pounds. **map_link** provides a google map of site.  Note that the Google satellite map may be older than the well pad.'))"
   ]
  },
  {
   "cell_type": "code",
   "execution_count": null,
   "metadata": {},
   "outputs": [],
   "source": [
    "if have_mass:\n",
    "    mdf = df[df.calcMass>0].sort_values('calcMass',ascending=False).reset_index(drop=True)\n",
    "    #df['mass (pounds)'] = df.calcMass.map(lambda x: round_sig(x,4))\n",
    "    #df['water carrier (gallons)'] = df.TotalBaseWaterVolume.map(lambda x: round_sig(x,3))\n",
    "    iShow(mdf[['calcMass','bgStateName','bgCountyName','map_link','bgOperatorName','APINumber','TotalBaseWaterVolume',\n",
    "                'date','primarySupplier','bgSupplier','TradeName_trunc']].head(100))\n"
   ]
  },
  {
   "cell_type": "markdown",
   "metadata": {},
   "source": [
    "<a id='raw'></a>\n",
    "# Raw fields for this chemical\n",
    "These are the fields in the raw FracFocus data as they are entered for the records positively identified as this chemical.  These raw fields often have typos, variations on a chemical name, etc.  In some cases, two variations may seem identical, but probably differ by non-printing characters."
   ]
  },
  {
   "cell_type": "code",
   "execution_count": null,
   "metadata": {},
   "outputs": [],
   "source": [
    "\n",
    "if have_data:\n",
    "    display(md('## Raw CASNumber variations encountered for this chemical'))\n",
    "\n",
    "    out = df.groupby('CASNumber',as_index=False)['bgCAS'].count().reset_index(drop=True)\n",
    "    gb1 = df.groupby('CASNumber')['bgOperatorName'].apply(set).reset_index()\n",
    "    gb1.columns = ['CASNumber','Operators']\n",
    "    gb1.Operators = gb1.Operators.map(lambda x: xlate_to_str(x,maxlen=10))\n",
    "    out = pd.merge(out,gb1,on='CASNumber',how='left')\n",
    "    gb2 = df.groupby('CASNumber')['primarySupplier'].apply(set).reset_index()\n",
    "    gb2.columns = ['CASNumber','primarySupplier']\n",
    "    gb2.primarySupplier = gb2.primarySupplier.map(lambda x: xlate_to_str(x,maxlen=10))\n",
    "    out = pd.merge(out,gb2,on='CASNumber',how='left').reset_index(drop=True)\n",
    "\n",
    "    out.columns = ['CASNumber','Number of records','Operators','primarySuppliers']\n",
    "    iShow(out,maxBytes=0)"
   ]
  },
  {
   "cell_type": "code",
   "execution_count": null,
   "metadata": {},
   "outputs": [],
   "source": [
    "if have_data:\n",
    "    display(md('## Raw IngredientName variations encountered for this chemical'))\n",
    "\n",
    "    out = df.groupby('IngredientName',as_index=False)['bgCAS'].count().reset_index(drop=True)\n",
    "    gb1 = df.groupby('IngredientName')['bgOperatorName'].apply(set).reset_index()\n",
    "    gb1.columns = ['IngredientName','Operators']\n",
    "    gb1.Operators = gb1.Operators.map(lambda x: xlate_to_str(x,maxlen=10))\n",
    "    out = pd.merge(out,gb1,on='IngredientName',how='left')\n",
    "    gb2 = df.groupby('IngredientName')['primarySupplier'].apply(set).reset_index()\n",
    "    gb2.columns = ['IngredientName','primarySupplier']\n",
    "    gb2.primarySupplier = gb2.primarySupplier.map(lambda x: xlate_to_str(x,maxlen=10))\n",
    "    out = pd.merge(out,gb2,on='IngredientName',how='left').reset_index(drop=True)\n",
    "\n",
    "    out.columns = ['IngredientName','Number of records','Operators','primarySuppliers']\n",
    "    iShow(out,maxBytes=0)"
   ]
  },
  {
   "cell_type": "code",
   "execution_count": null,
   "metadata": {},
   "outputs": [],
   "source": [
    "if have_data:\n",
    "    display(md('## Raw TradeName variations encountered for this chemical\\n Names truncated to 30 characters before processing'))\n",
    "\n",
    "    df.TradeName = np.where(df.TradeName.isna(),'MISSING',df.TradeName)\n",
    "\n",
    "    out = df.groupby('TradeName_trunc',as_index=False)['bgCAS'].count().reset_index(drop=True)\n",
    "    gb1 = df.groupby('TradeName_trunc')['bgOperatorName'].apply(set).reset_index()\n",
    "    gb1.columns = ['TradeName_trunc','Operators']\n",
    "    gb1.Operators = gb1.Operators.map(lambda x: xlate_to_str(x,maxlen=10))\n",
    "    out = pd.merge(out,gb1,on='TradeName_trunc',how='left')\n",
    "    gb2 = df.groupby('TradeName_trunc')['primarySupplier'].apply(set).reset_index()\n",
    "    gb2.columns = ['TradeName_trunc','primarySupplier']\n",
    "    gb2.primarySupplier = gb2.primarySupplier.map(lambda x: xlate_to_str(x,maxlen=10))\n",
    "    out = pd.merge(out,gb2,on='TradeName_trunc',how='left').reset_index(drop=True)\n",
    "    gb3 = df.groupby('TradeName_trunc')['bgSupplier'].apply(set).reset_index()\n",
    "    gb3.columns = ['TradeName_trunc','bgSupplier']\n",
    "    gb3.bgSupplier = gb3.bgSupplier.map(lambda x: xlate_to_str(x,maxlen=10))\n",
    "    out = pd.merge(out,gb3,on='TradeName_trunc',how='left').reset_index(drop=True)\n",
    "\n",
    "    out.columns = ['TradeName_trunc','Number of records','Operators','primarySuppliers','bgSupplier']\n",
    "    iShow(out,maxBytes=0)"
   ]
  },
  {
   "cell_type": "code",
   "execution_count": null,
   "metadata": {},
   "outputs": [],
   "source": [
    "if have_data:\n",
    "    display(md('## Raw Purpose variations encountered for this chemical\\n Values truncated to 30 characters before processing'))\n",
    "    df.Purpose = np.where(df.Purpose.isna(),'MISSING',df.Purpose)\n",
    "    df['Purp_trunc'] = np.where(df.Purpose.str.len()>30,\n",
    "                                df.Purpose.str[:30]+'...',\n",
    "                                df.Purpose)\n",
    "    out = df.groupby('Purp_trunc',as_index=False)['bgCAS'].count().reset_index(drop=True)\n",
    "    gb1 = df.groupby('Purp_trunc')['bgOperatorName'].apply(set).reset_index()\n",
    "    gb1.columns = ['Purp_trunc','Operators']\n",
    "    gb1.Operators = gb1.Operators.map(lambda x: xlate_to_str(x,maxlen=10))\n",
    "    out = pd.merge(out,gb1,on='Purp_trunc',how='left')\n",
    "    gb2 = df.groupby('Purp_trunc')['primarySupplier'].apply(set).reset_index()\n",
    "    gb2.columns = ['Purp_trunc','primarySupplier']\n",
    "    gb2.primarySupplier = gb2.primarySupplier.map(lambda x: xlate_to_str(x,maxlen=10))\n",
    "    out = pd.merge(out,gb2,on='Purp_trunc',how='left').reset_index(drop=True)\n",
    "    gb3 = df.groupby('Purp_trunc')['bgSupplier'].apply(set).reset_index()\n",
    "    gb3.columns = ['Purp_trunc','bgSupplier']\n",
    "    gb3.bgSupplier = gb3.bgSupplier.map(lambda x: xlate_to_str(x,maxlen=10))\n",
    "    out = pd.merge(out,gb3,on='Purp_trunc',how='left').reset_index(drop=True)\n",
    "\n",
    "    out.columns = ['Purp_trunc','Number of records','Operators','primarySuppliers','bgSupplier']\n",
    "    iShow(out,maxBytes=0)"
   ]
  },
  {
   "cell_type": "markdown",
   "metadata": {},
   "source": [
    "<a id='massCompanies'></a>"
   ]
  },
  {
   "cell_type": "code",
   "execution_count": null,
   "metadata": {},
   "outputs": [],
   "source": [
    "if have_data:\n",
    "    if massPres < pres:\n",
    "        display(md('## Operators not reporting enough data for mass calculations for this chemical'))\n",
    "        display(md('-- Shown are operators and how many records without mass, as well as the types of information missing or in error for each company'))\n",
    "        tmp = df[~(df.calcMass>0)].groupby('bgOperatorName',as_index=False)['UploadKey'].count()\n",
    "        df['noPerc'] = ~(df.PercentHFJob>0)\n",
    "        df['noTBWV'] = ~df.has_TBWV\n",
    "        df['noWaterCarrier'] = ~df.has_water_carrier\n",
    "        df['outOfTolerance'] = ~df.within_total_tolerance\n",
    "        gb = df[~(df.calcMass>0)].groupby('bgOperatorName',as_index=False)[['noTBWV','noWaterCarrier',\n",
    "                                                                            'outOfTolerance','noPerc']].sum()\n",
    "        tmp = pd.merge(tmp,gb,on='bgOperatorName',how='left').reset_index(drop=True)\n",
    "        tmp.noTBWV = ((tmp.noTBWV/tmp.UploadKey)*100).round(0)\n",
    "        tmp.noWaterCarrier = ((tmp.noWaterCarrier/tmp.UploadKey)*100).round(0)\n",
    "        tmp.outOfTolerance = ((tmp.outOfTolerance/tmp.UploadKey)*100).round(0)\n",
    "        tmp.noPerc = ((tmp.noPerc/tmp.UploadKey)*100).round(0)\n",
    "        tmp.columns = ['Operator','records without mass','% without TBWV','% no water carrier record',\n",
    "                       '% total percent out of tolerance','% no PercentHFJob']\n",
    "        iShow(tmp,maxBytes=0)    "
   ]
  },
  {
   "cell_type": "code",
   "execution_count": null,
   "metadata": {},
   "outputs": [],
   "source": [
    "# from IPython.core.display import HTML\n",
    "# def css_styling():\n",
    "#     styles = open(\"./styles/custom.css\", \"r\").read()\n",
    "#     return HTML(styles)\n",
    "# css_styling()"
   ]
  },
  {
   "cell_type": "code",
   "execution_count": null,
   "metadata": {},
   "outputs": [],
   "source": []
  },
  {
   "cell_type": "code",
   "execution_count": null,
   "metadata": {},
   "outputs": [],
   "source": []
  }
 ],
 "metadata": {
  "hide_input": true,
  "kernelspec": {
   "display_name": "Python 3 (ipykernel)",
   "language": "python",
   "name": "python3"
  },
  "language_info": {
   "codemirror_mode": {
    "name": "ipython",
    "version": 3
   },
   "file_extension": ".py",
   "mimetype": "text/x-python",
   "name": "python",
   "nbconvert_exporter": "python",
   "pygments_lexer": "ipython3",
   "version": "3.9.7"
  }
 },
 "nbformat": 4,
 "nbformat_minor": 4
}
