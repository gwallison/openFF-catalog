{
 "cells": [
  {
   "cell_type": "code",
   "execution_count": null,
   "id": "7af406d4-1dd0-4905-bb6a-77bdb9f98429",
   "metadata": {},
   "outputs": [],
   "source": [
    "# %cd ./work\n",
    "# %pwd"
   ]
  },
  {
   "cell_type": "code",
   "execution_count": null,
   "id": "a4c09db7-b59f-40f3-8c4d-da124c7037f4",
   "metadata": {},
   "outputs": [],
   "source": [
    "%run \"../catalog_common.py\""
   ]
  },
  {
   "cell_type": "code",
   "execution_count": null,
   "id": "8bf11553-0fb6-433c-bee9-5521e41a32bb",
   "metadata": {},
   "outputs": [],
   "source": [
    "# import sys\n",
    "# sys.path.insert(0,'c:/MyDocs/OpenFF/src/openFF-catalog/')\n",
    "# import catalog_common as cc"
   ]
  },
  {
   "cell_type": "code",
   "execution_count": null,
   "id": "79085df4-fdd8-4af2-9fbb-0414a407d14f",
   "metadata": {},
   "outputs": [],
   "source": [
    "#preamble to analysis\n",
    "import pandas as pd\n",
    "import numpy as np\n",
    "import matplotlib.pyplot as plt\n",
    "from pylab import gca, mpl\n",
    "\n",
    "%matplotlib inline\n",
    "import seaborn as sns\n",
    "import matplotlib.ticker\n",
    "from IPython.display import Markdown as md\n",
    "from IPython.display import HTML, display\n",
    "from time import sleep\n",
    "\n",
    "from itables import init_notebook_mode\n",
    "init_notebook_mode(all_interactive=True)\n",
    "from itables import show as iShow\n",
    "import itables.options as opt\n",
    "opt.order = []  # no sorting"
   ]
  },
  {
   "cell_type": "code",
   "execution_count": null,
   "id": "b68199e2-8615-4b62-ae24-56d2bf5602a5",
   "metadata": {},
   "outputs": [],
   "source": [
    "alldf = pd.read_csv('state.csv',low_memory=False)\n",
    "alldf.date = pd.to_datetime(alldf.date)\n",
    "statename = alldf.bgStateName.iloc[0]"
   ]
  },
  {
   "cell_type": "code",
   "execution_count": null,
   "id": "20436324-3169-4ff4-8f7f-df0d28f4a54a",
   "metadata": {},
   "outputs": [],
   "source": [
    "ID_header(statename.title(), subtitle='Open-FF State Summary',incl_links=True,\n",
    "          link_up_level=True)\n",
    "set_page_param()"
   ]
  },
  {
   "cell_type": "code",
   "execution_count": null,
   "id": "b8a5cf5c-9ee6-4cee-bbec-830a875e1307",
   "metadata": {},
   "outputs": [],
   "source": [
    "def xlate_val(n):\n",
    "    if n==0:\n",
    "        return ''\n",
    "    if n<1000:\n",
    "        return round_sig(n,1)\n",
    "    x = round_sig(n,1)\n",
    "    return x[0]+ 'k'\n",
    "\n",
    "def make_annot(gb):\n",
    "    annot = gb.copy()\n",
    "    annot.UploadKey = annot.UploadKey.map(lambda x: xlate_val(x))\n",
    "    #print(annot)\n",
    "    piv = annot.pivot(index='County',columns='year',values='UploadKey')\n",
    "    piv.fillna('',inplace=True)\n",
    "    #print(piv)\n",
    "    return piv\n",
    "    \n",
    "def CountyMap(df):\n",
    "    start_loc = get_state_center(statename)\n",
    "    #print(statename,start_loc)\n",
    "    cond = (df.loc_within_state=='YES')&(df.loc_within_county=='YES')\n",
    "    if cond.sum()==0:  # no valid fracks for this state\n",
    "        display(md('## No mappable fracks for this state!'))\n",
    "        display(md(f'Any data in this state set may be labeled incorrectly as {statename}'))\n",
    "        return\n",
    "    gb = df[cond].groupby(['bgStateName','bgCountyName',\n",
    "                                                   'UploadKey'],as_index=False)['bgCAS'].count()\n",
    "    gb = gb.groupby(['bgStateName','bgCountyName'],as_index=False)['UploadKey'].count().rename({'bgStateName':'StateName',\n",
    "                                                                                                'bgCountyName':'CountyName',\n",
    "                                                                                                'UploadKey':'value'},\n",
    "                                                                                                axis=1)\n",
    "    zoom = 6\n",
    "    if statename in ['texas','california']:\n",
    "        zoom = 5\n",
    "    if statename in ['alaska']:\n",
    "        zoom = 4\n",
    "        \n",
    "    create_county_choropleth(gb,plotlog=True,custom_scale= [0,1,2,3,4,5],\n",
    "                             start_loc=start_loc, # center of state's data\n",
    "                             legend_name='Number of FracFocus disclosures',\n",
    "                             start_zoom=zoom,fields=['StateName','CountyName','orig_value'],\n",
    "                             aliases=['State: ','County: ','Number Fracking disclosures: '])\n",
    "\n",
    "def CountyCntTable(df):\n",
    "    # first, make the general searchable table\n",
    "    gb = df.groupby(['bgCountyName','UploadKey'],as_index=False)['date'].first()\n",
    "    gb['year'] = gb.date.dt.year.astype('str')\n",
    "    gb1 = gb.groupby(['bgCountyName'],as_index=False)['UploadKey'].count().rename({'UploadKey':'disclosure_count'},\n",
    "                                                                                  axis=1)\n",
    "    gb2 = gb1.copy()\n",
    "    gbop = df.groupby('bgCountyName')['bgOperatorName'].agg(lambda x:x.value_counts().index[0:4]).reset_index()\n",
    "    gbop.bgOperatorName = gbop.bgOperatorName.map(lambda x: xlate_to_str(x,'; ',sort=False))\n",
    "    gbop = gbop.rename({'bgOperatorName':'Top Operators'},axis=1)\n",
    "    gb2 = pd.merge(gb2,gbop,on='bgCountyName',how='left')\n",
    "\n",
    "    gbprop = df[df.bgCAS=='proprietary'].groupby('bgCountyName',as_index=False)['bgCAS'].count()\n",
    "#     gbprop.bgCAS.fillna(0,inplace=True)\n",
    "    gbprop = gbprop.rename({'bgCAS':'Trade Secret records'},axis=1)\n",
    "    gb2 = pd.merge(gb2,gbprop,on='bgCountyName',how='left')\n",
    "    gb2['Trade Secret records'].fillna(0,inplace=True)\n",
    "    \n",
    "    gbtbwv = df.groupby(['bgCountyName','UploadKey'],as_index=False)['TotalBaseWaterVolume'].first()\n",
    "    gbtbwv = gbtbwv.groupby('bgCountyName',as_index=False)['TotalBaseWaterVolume'].sum().rename({'TotalBaseWaterVolume':'tot_gallons_water'},\n",
    "                                                                                                axis=1)\n",
    "    gbtbwv.tot_gallons_water = gbtbwv.tot_gallons_water.map(lambda x: round_sig(x,3))\n",
    "    gb2 = pd.merge(gb2,gbtbwv,on='bgCountyName',how='left')\n",
    "\n",
    "    #print(gb2.head())\n",
    "    gb2['County'] = '<center><h4>'+gb2.bgCountyName.str.title().map(lambda x: getCountyLink(x,statename,x))+'</h4></center>'\n",
    "    gb2 = gb2.drop('bgCountyName',axis=1)\n",
    "    iShow(gb2.sort_values('disclosure_count',ascending=False)[['County','disclosure_count',\n",
    "                                                               'Trade Secret records','tot_gallons_water',\n",
    "                                                               'Top Operators']].reset_index(drop=True))\n",
    "        \n",
    "    # Now make the heatmap\n",
    "    gb3 = gb.groupby(['bgCountyName','year'],as_index=False)['UploadKey'].count()\n",
    "    gb3 = gb3.rename({'bgCountyName':'County'},axis=1)\n",
    "    gb3 = pd.merge(gb3,gb1,left_on='County',right_on='bgCountyName',how='left')\n",
    "    gb3.County = gb3.County.str.title()\n",
    "\n",
    "    gb_annot = make_annot(gb3)\n",
    "    #print(gb_annot)\n",
    "    gb3.UploadKey = gb3.UploadKey/gb3.disclosure_count *100\n",
    "    piv = gb3.pivot(index='County',columns='year',values='UploadKey')\n",
    "    #piv = piv.reset_index()\n",
    "    #piv['County'] = '<center><h3>'+piv.CountyName.str.title().map(lambda x: getCountyLink(x,statename,x))+'</h3></center>'\n",
    "    #piv = piv.drop('CountyName',axis=1)\n",
    "    piv.fillna(0,inplace=True)\n",
    "\n",
    "    \n",
    "    fig = plt.figure(figsize=(len(piv.columns)*.75,len(piv)/3+3))\n",
    "    ax = sns.heatmap(piv,cmap=\"Reds\",annot=gb_annot,fmt='')\n",
    "    plt.ylabel(f'Counties',fontsize=14);\n",
    "    plt.xlabel(f'Year',fontsize=14);\n",
    "    plt.title(f\"Percent Distribution of county's disclosures by year\",fontsize=16)\n",
    "    #plt.title(\"Annotations are the number of disclosures (rounded)\",fontsize=12)\n",
    "    ax.set_xticklabels(ax.get_xticklabels(),rotation = 45)\n",
    "    ax.set_yticklabels(ax.get_yticklabels(),rotation = 0,fontsize=14);\n",
    "    ax.xaxis.set_ticks_position('top')\n",
    "    plt.show()\n",
    "    display(md(\"     Annotations are the number of disclosures that year (rounded)\"))"
   ]
  },
  {
   "cell_type": "markdown",
   "id": "910bdd39-6067-48f9-8374-93ad27b197c4",
   "metadata": {},
   "source": [
    "# Where are the fracking locations in this state?\n",
    "This is not an exhaustive set of wells in these counties; it is only those wells for which the operating company submits a chemical disclosure to FracFocus.  In addition, this map omits disclosures for which location information is conflicting, such as the Latitude/Longitude values are outside of the reported county."
   ]
  },
  {
   "cell_type": "code",
   "execution_count": null,
   "id": "e3860db3-6c4d-4dea-9e64-38efc5776d46",
   "metadata": {},
   "outputs": [],
   "source": [
    "CountyMap(alldf)"
   ]
  },
  {
   "cell_type": "markdown",
   "id": "c27acdca-1a4f-402e-ae90-ba8354f80e51",
   "metadata": {},
   "source": [
    "---\n",
    "## County-based details"
   ]
  },
  {
   "cell_type": "code",
   "execution_count": null,
   "id": "c68d9482-8289-4bc4-9298-09289e4c1ebb",
   "metadata": {},
   "outputs": [],
   "source": [
    "CountyCntTable(alldf)"
   ]
  },
  {
   "cell_type": "code",
   "execution_count": null,
   "id": "816f2dd8-96c2-4053-bca2-c5f455101219",
   "metadata": {},
   "outputs": [],
   "source": []
  },
  {
   "cell_type": "code",
   "execution_count": null,
   "id": "999d920a-679d-45cb-8ee0-971fb783e136",
   "metadata": {},
   "outputs": [],
   "source": []
  }
 ],
 "metadata": {
  "kernelspec": {
   "display_name": "Python 3 (ipykernel)",
   "language": "python",
   "name": "python3"
  },
  "language_info": {
   "codemirror_mode": {
    "name": "ipython",
    "version": 3
   },
   "file_extension": ".py",
   "mimetype": "text/x-python",
   "name": "python",
   "nbconvert_exporter": "python",
   "pygments_lexer": "ipython3",
   "version": "3.9.7"
  }
 },
 "nbformat": 4,
 "nbformat_minor": 5
}
