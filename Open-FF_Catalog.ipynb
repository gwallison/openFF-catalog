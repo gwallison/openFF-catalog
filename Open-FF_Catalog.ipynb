{
 "cells": [
  {
   "cell_type": "code",
   "execution_count": null,
   "id": "cee47f3f-c0e0-4175-9fe2-09085b8c31ef",
   "metadata": {},
   "outputs": [],
   "source": [
    "%run \"catalog_common.py\" \n",
    "ID_header('Open-FF Browser', incl_links=True)\n",
    "set_page_param()"
   ]
  },
  {
   "cell_type": "markdown",
   "id": "5095f26f-b68c-4f8d-83cf-b55a17c908bd",
   "metadata": {},
   "source": [
    "| <div style=\"width:400px\"></div> | |\n",
    "| --- | --- |\n",
    "| | <center><h2> Chemicals </h2><center> |\n",
    "|<center><h2><a href=\"Open-FF_Chemicals.html\">Chemical Index</a></h2><center> | An interactive and searchable index into the chemicals used in FracFocus. Includes summary statistics and links to in-depth analysis of each material's use.|\n",
    "|<center><h2><a href=\"Open-FF_Synonyms.html\">Chemical synonyms</a></h2><center> |This searchable table lists alternative names for the chemicals published in FracFocus. Although it is not an exhaustive set (around 100,000 synonyms for about 1400 compounds published in FracFocus and other fracking data sources), it may help you find  alternative names for a given CAS number or possible CAS numbers for a given name|\n",
    "|<center><h2><a href=\"Open-FF_CASNumber_and_IngredientName.html\">CAS-Ing pairs</a> </h2><center>|This interactive table helps the user see how the raw FracFocus fields **CASNumber** and **IngredientName** were curated into the Open-FF **bgCAS** values.  This curation is necessary because there are many correctable mistakes that, once fixed, give us a more complete record of chemical use.|\n",
    "| |<center><h2> States and Counties </h2><center>|\n",
    "|<center><h2><a href=\"Open-FF_States_and_Counties.html\">State summaries</a></h2><center>| Data are summarized by state and county. **(in development)**|\n",
    "| |<center><h2> Companies and their products </h2><center>|\n",
    "|<center><h2><a href=\"Open-FF_Companies.html\">Company name table</a></h2><center>|The raw FracFocus data for company names is not standardized.  A single company may be named by dozens of labels in the data.  Without correcting this proliferation of names, searching the data is very tedious.  Open-FF uses a hand-curated translation table to translate the numerous versions into a single name.  The two FracFocus fields that are the 'input' for this table are *OperatorName* and *Supplier*. The three Open-FF fields that use the output of the table are *bgOperatorName*, *bgSupplier* and *primarySupplier*. |\n",
    "|<center><h2><a href=\"Open-FF_TradeNames.html\">TradeNames Index</a></h2><center>| This experimental table lists all tradenames and the bgCAS numbers associated with them.  Use this table to find what is reported in a particular product or to find which products a particular chemical ends up in.  You can also use the table to look for variations in how a particular product is reported. **(in development)** |\n",
    "| | <center><h2> Overview </h2><center>|\n",
    "|<center><h2><a href=\"Short_description_of_Open-FF.html\"> What is Open-FF?</a></h2><center>|A brief description of the Open-FF project.|\n",
    "|<center><h2><a href=\"Open-FF_Scope_and_Aggregate_Stats.html\"> Scope of FracFocus</a></h2><center>| A big-picture summary of FracFocus data, including links to summary data sets.**(in development)**|\n",
    "| |<center><h2> Resources </h2><center>|\n",
    "|<center><h2><a href=\"Open-FF_Data_Dictionary.html\"> Data Dictionary</a></h2><center> |This dictionary has three tables: The first table describes the fields in the original FracFocus bulk downloads and the generated fields in the Open-FF data sets.  The other tables provide information about the process of identifying the carrier records in disclosures. |\n",
    "|<center><h2><a href=\"Open-FF_Auxillary_Data.html\"> Other data sets</a></h2><center> |The data sets described here are related to the main bulk download set, but for various reasons, are not directly connected. For example, chemical records for the 2011-2013 period that were scraped from FracFocus's PDF files are summarized here. |"
   ]
  },
  {
   "cell_type": "markdown",
   "id": "interesting-confusion",
   "metadata": {
    "tags": []
   },
   "source": [
    "---\n",
    "---\n",
    "## Navigating the tables in the Open-FF Browser:\n",
    "Many tables are interactive. You can: \n",
    " - re-sort the table by clicking on a column heading\n",
    " - click there again to reverse the table order (from ascending to descending)\n",
    " - sort by more than one column (clicking them in succesion) to facilitate finer sorting\n",
    " - filter the records that are displayed by using the search box (for example, type in a company name to only show those records)\n",
    " - control the number of records shown per page"
   ]
  }
 ],
 "metadata": {
  "celltoolbar": "Tags",
  "hide_input": false,
  "kernelspec": {
   "display_name": "Python 3 (ipykernel)",
   "language": "python",
   "name": "python3"
  },
  "language_info": {
   "codemirror_mode": {
    "name": "ipython",
    "version": 3
   },
   "file_extension": ".py",
   "mimetype": "text/x-python",
   "name": "python",
   "nbconvert_exporter": "python",
   "pygments_lexer": "ipython3",
   "version": "3.9.7"
  }
 },
 "nbformat": 4,
 "nbformat_minor": 5
}
