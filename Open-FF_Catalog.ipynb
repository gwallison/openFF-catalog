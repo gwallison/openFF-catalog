{
 "cells": [
  {
   "cell_type": "code",
   "execution_count": null,
   "id": "cee47f3f-c0e0-4175-9fe2-09085b8c31ef",
   "metadata": {},
   "outputs": [],
   "source": [
    "%run \"catalog_common.py\" \n",
    "ID_header('Open-FF:  Catalog', incl_links=True)\n",
    "set_page_param()"
   ]
  },
  {
   "cell_type": "markdown",
   "id": "89665bad-07f5-42c2-a7b8-1b15a5654ee1",
   "metadata": {},
   "source": [
    "## Exploring the Fracking Industry's FracFocus Chemical Disclosures"
   ]
  },
  {
   "cell_type": "markdown",
   "id": "interesting-confusion",
   "metadata": {},
   "source": [
    "Below are the indicies into the Open-FF Catalog.  These tables are interactive: \n",
    " - re-sort the table by clicking on a column heading\n",
    " - click there again to reverse the table order (from ascending to descending)\n",
    " - sorting by more than one column (in succesion) allows finer sorting\n",
    " - filter the records that are displayed by using the search box (for example, type in a company name to only show those records)\n",
    " - control the number of records shown per page"
   ]
  },
  {
   "cell_type": "markdown",
   "id": "understanding-premiere",
   "metadata": {},
   "source": [
    "# [Chemical Index](Open-FF_Chemicals.html)\n",
    "\n",
    "This interactive table below lists all chemicals published in FracFocus that have been parsed successfully. For each chemical, the index list information such as number of records in FracFocus in the filtered data, the mass of the largest 10% of those records and whether the chemical is on lists of \"chemicals of concern.\"\n",
    "\n",
    "Further, this index has links to more information:  \n",
    "- Clicking on the CAS Number takes you to a detailed report on the Where, Who, When and How Much for that chemical in FracFocus data.  \n",
    "- The 'data' link allows you to download a spreadsheet of the chemical records directly.  \n",
    "- The ChemID link takes you to a webpage with lots of general information about the chemical.\n",
    "- Most chemicals also have a link to the extensive resources on the EPA's CompTox.\n",
    "\n",
    "\n"
   ]
  },
  {
   "cell_type": "markdown",
   "id": "hybrid-mumbai",
   "metadata": {},
   "source": [
    "# [Chemical synonyms](Open-FF_Synonyms.html)\n",
    "This interactive table lists alternative names for the chemicals published in FracFocus. Although it is not an exhaustive set (around 100,000 synonyms for about 1400 compounds published in FracFocus and other fracking data sources), it may help you find:\n",
    "\n",
    "- alternative names for a given CAS number. Some of these may be product names. Some CAS numbers have thousands of synonyms.\n",
    "- possible CAS numbers for a given name\n"
   ]
  },
  {
   "cell_type": "markdown",
   "id": "bigger-romance",
   "metadata": {},
   "source": [
    "# [Index of CASNumber and IngredientName Pairs](Open-FF_CASNumber_and_IngredientName.html)\n",
    "\n",
    "This interactive table helps the user see how the raw FracFocus fields **CASNumber** and **IngredientName** were curated into the Open-FF **bgCAS** values.  This curation is necessary because there are many correctable mistakes that, once fixed, give us a more complete record of chemical use.\n",
    "\n"
   ]
  },
  {
   "cell_type": "markdown",
   "id": "better-liverpool",
   "metadata": {},
   "source": [
    "# [Company translation table](Open-FF_Companies.html)\n",
    "The raw FracFocus data for company names is not standardized.  A single company may be named by dozens of labels in the data.  Without correcting this proliferation of names, searching the data is very tedious.  Open-FF uses a hand-curated translation table to translate the numerous versions into a single name.  The two FracFocus fields that are the 'input' for this table are OperatorName and Supplier. The three Open-FF fields that use the output of the table are bgOperatorName, bgSupplier and primarySupplier.\n"
   ]
  },
  {
   "cell_type": "markdown",
   "id": "raised-crazy",
   "metadata": {},
   "source": [
    "# [TradeNames Index](Open-FF_TradeNames.html)\n",
    "This experimental table lists all tradenames and the bgCAS numbers associated with them.  Use this table to find what is reported in a particular product or to find which products a particular chemical ends up in.  You can also use the table to look for variations in how a particular product is reported."
   ]
  },
  {
   "cell_type": "markdown",
   "id": "demanding-gilbert",
   "metadata": {},
   "source": [
    "# [Data Dictionary](Open-FF_Data_Dictionary.html)\n",
    "This dictionary consists of two tables: The first table describes the fields in the original FracFocus bulk downloads and the generated fields in the Open-FF data sets.  The second table lists a set of common analysis data sets that can be created (or downloaded), their size and the fields that are in them."
   ]
  }
 ],
 "metadata": {
  "celltoolbar": "Tags",
  "hide_input": false,
  "kernelspec": {
   "display_name": "Python 3 (ipykernel)",
   "language": "python",
   "name": "python3"
  },
  "language_info": {
   "codemirror_mode": {
    "name": "ipython",
    "version": 3
   },
   "file_extension": ".py",
   "mimetype": "text/x-python",
   "name": "python",
   "nbconvert_exporter": "python",
   "pygments_lexer": "ipython3",
   "version": "3.9.7"
  }
 },
 "nbformat": 4,
 "nbformat_minor": 5
}
