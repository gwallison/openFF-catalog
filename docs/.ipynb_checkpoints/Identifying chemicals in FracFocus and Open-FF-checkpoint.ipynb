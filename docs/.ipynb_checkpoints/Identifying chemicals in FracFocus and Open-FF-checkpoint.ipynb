{
 "cells": [
  {
   "cell_type": "markdown",
   "id": "romance-exercise",
   "metadata": {},
   "source": [
    "# Understanding chemical identification in Open-FF\n",
    "\n",
    "> ### Identifying which chemicals are used is probably the most important role of a disclosure instrument like FracFocus\n",
    "\n",
    "The disclosures of FracFocus report two forms of identification of chemical records, the \"CASNumber\" and an \"IngredientName.\"  The CASNumber is a code that indicates a very specific chemical compound and is assigned by the Chemical Abstract Service.  It is considered an authoritative reference and has a very constrained format; \"67-56-1\" for example.  The IngredientName, on the other hand, is a name that more people are likely to recognize; for example \"methanol\" is one of the names of \"67-56-1.\"  \n",
    "\n",
    "While many of the chemical records in FracFocus are identified unambiguously, many are not.\n",
    "\n",
    "With the start of version 10, Open-FF evaluates both forms of chemical identity by comparing them to authoritative references (The Chemical Abstract Service's SciFinder database and EPA's CompTox resource) to generate the \"best guess\" identity for as many FracFocus records as possible. In addition, Open-FF clearly labels the records in which companies explicitly obscure chemical identity - the so-called Trade Secret claims. \n",
    "\n",
    "That process is described below.\n"
   ]
  },
  {
   "cell_type": "code",
   "execution_count": null,
   "id": "rough-johnston",
   "metadata": {},
   "outputs": [],
   "source": []
  }
 ],
 "metadata": {
  "hide_input": false,
  "kernelspec": {
   "display_name": "Python 3",
   "language": "python",
   "name": "python3"
  },
  "language_info": {
   "codemirror_mode": {
    "name": "ipython",
    "version": 3
   },
   "file_extension": ".py",
   "mimetype": "text/x-python",
   "name": "python",
   "nbconvert_exporter": "python",
   "pygments_lexer": "ipython3",
   "version": "3.8.5"
  }
 },
 "nbformat": 4,
 "nbformat_minor": 5
}
